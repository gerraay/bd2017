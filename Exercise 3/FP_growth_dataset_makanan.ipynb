{
 "cells": [
  {
   "cell_type": "markdown",
   "metadata": {},
   "source": [
    "# Konfigurasi Awal"
   ]
  },
  {
   "cell_type": "code",
   "execution_count": 1,
   "metadata": {
    "collapsed": false
   },
   "outputs": [
    {
     "name": "stdout",
     "output_type": "stream",
     "text": [
      "<pyspark.context.SparkContext object at 0x0000000003EFABA8>\n"
     ]
    }
   ],
   "source": [
    "import os\n",
    "import sys\n",
    "\n",
    "# 1. Lokasi di mana Spark diinstal\n",
    "spark_path = \"D:/spark\"\n",
    "\n",
    "# 2. Menentukan environment variable\n",
    "os.environ['SPARK_HOME'] = spark_path\n",
    "\n",
    "\n",
    "# 3. Download winutils dari https://github.com/steveloughran/winutils/blob/master/hadoop-2.6.0/bin/winutils.exe?raw=true\n",
    "#   dan letakkan di dalam folder E:\\spark\\bin\\\n",
    "#   Lokasi winutils.exe\n",
    "os.environ['HADOOP_HOME'] = spark_path\n",
    "\n",
    "# 4. Lokasi Python yang dijalankan --> punya Anaconda\n",
    "#    Apabila Python yang diinstall hanya Anaconda, maka tidak perlu menjalankan baris ini.\n",
    "os.environ['PYSPARK_PYTHON'] = sys.executable\n",
    "\n",
    "# 5. Konfigurasi path library PySpark\n",
    "sys.path.append(spark_path + \"/bin\")\n",
    "sys.path.append(spark_path + \"/python\")\n",
    "sys.path.append(spark_path + \"/python/pyspark/\")\n",
    "sys.path.append(spark_path + \"/python/lib\")\n",
    "sys.path.append(spark_path + \"/python/lib/pyspark.zip\")\n",
    "sys.path.append(spark_path + \"/python/lib/py4j-0.10.4-src.zip\")\n",
    "\n",
    "from pyspark import SparkContext\n",
    "from pyspark import SparkConf\n",
    "\n",
    "sc = SparkContext(\"local\", \"test\")\n",
    "\n",
    "print sc"
   ]
  },
  {
   "cell_type": "markdown",
   "metadata": {},
   "source": [
    "# FP-growth"
   ]
  },
  {
   "cell_type": "code",
   "execution_count": 18,
   "metadata": {
    "collapsed": false
   },
   "outputs": [
    {
     "name": "stdout",
     "output_type": "stream",
     "text": [
      "FreqItemset(items=[u'nasi_putih,'], freq=30)\n",
      "FreqItemset(items=[u'es_teh'], freq=24)\n",
      "FreqItemset(items=[u'es_teh', u'nasi_putih,'], freq=16)\n",
      "FreqItemset(items=[u'air_putih'], freq=16)\n",
      "FreqItemset(items=[u'air_putih', u'nasi_putih,'], freq=11)\n"
     ]
    }
   ],
   "source": [
    "#minSUpport=0.2\n",
    "\n",
    "from pyspark.mllib.fpm import FPGrowth\n",
    "\n",
    "data = sc.textFile(\"D:/spark/tugas3/dataset/dataset_makanan.txt\")\n",
    "transactions = data.map(lambda line: line.strip().split(' '))\n",
    "model = FPGrowth.train(transactions, minSupport=0.2, numPartitions=10)\n",
    "result = model.freqItemsets().collect()\n",
    "for fi in result:\n",
    "    print(fi)"
   ]
  },
  {
   "cell_type": "code",
   "execution_count": 19,
   "metadata": {
    "collapsed": false
   },
   "outputs": [
    {
     "name": "stdout",
     "output_type": "stream",
     "text": [
      "FreqItemset(items=[u'nasi_putih,'], freq=30)\n",
      "FreqItemset(items=[u'es_teh'], freq=24)\n",
      "FreqItemset(items=[u'es_teh', u'nasi_putih,'], freq=16)\n",
      "FreqItemset(items=[u'air_putih'], freq=16)\n",
      "FreqItemset(items=[u'air_putih', u'nasi_putih,'], freq=11)\n",
      "FreqItemset(items=[u'mie_goreng,'], freq=6)\n",
      "FreqItemset(items=[u'ayam_goreng,'], freq=6)\n",
      "FreqItemset(items=[u'ayam_goreng,', u'nasi_putih,'], freq=6)\n",
      "FreqItemset(items=[u'kerupuk,'], freq=6)\n",
      "FreqItemset(items=[u'tahu,'], freq=6)\n"
     ]
    }
   ],
   "source": [
    "#minSUpport=0.1\n",
    "\n",
    "from pyspark.mllib.fpm import FPGrowth\n",
    "\n",
    "data = sc.textFile(\"D:/spark/tugas3/dataset/dataset_makanan.txt\")\n",
    "transactions = data.map(lambda line: line.strip().split(' '))\n",
    "model = FPGrowth.train(transactions, minSupport=0.1, numPartitions=10)\n",
    "result = model.freqItemsets().collect()\n",
    "for fi in result:\n",
    "    print(fi)"
   ]
  },
  {
   "cell_type": "code",
   "execution_count": 20,
   "metadata": {
    "collapsed": false
   },
   "outputs": [
    {
     "name": "stdout",
     "output_type": "stream",
     "text": [
      "FreqItemset(items=[u'jamur,'], freq=3)\n",
      "FreqItemset(items=[u'jamur,', u'air_putih'], freq=3)\n",
      "FreqItemset(items=[u'jamur,', u'air_putih', u'nasi_putih,'], freq=3)\n",
      "FreqItemset(items=[u'jamur,', u'nasi_putih,'], freq=3)\n",
      "FreqItemset(items=[u'nasi_putih,'], freq=30)\n",
      "FreqItemset(items=[u'tempe_goreng,'], freq=3)\n",
      "FreqItemset(items=[u'tempe_goreng,', u'nasi_putih,'], freq=3)\n",
      "FreqItemset(items=[u'es_teh'], freq=24)\n",
      "FreqItemset(items=[u'es_teh', u'nasi_putih,'], freq=16)\n",
      "FreqItemset(items=[u'air_putih'], freq=16)\n",
      "FreqItemset(items=[u'air_putih', u'nasi_putih,'], freq=11)\n",
      "FreqItemset(items=[u'sayur,'], freq=3)\n",
      "FreqItemset(items=[u'sayur,', u'nasi_putih,'], freq=3)\n",
      "FreqItemset(items=[u'telur_goreng'], freq=3)\n",
      "FreqItemset(items=[u'mie_goreng,'], freq=6)\n",
      "FreqItemset(items=[u'mie_goreng,', u'nasi_putih,'], freq=3)\n",
      "FreqItemset(items=[u'teh_hangat'], freq=3)\n",
      "FreqItemset(items=[u'teh_hangat', u'nasi_putih,'], freq=3)\n",
      "FreqItemset(items=[u'ayam_goreng,'], freq=6)\n",
      "FreqItemset(items=[u'ayam_goreng,', u'es_teh'], freq=4)\n",
      "FreqItemset(items=[u'ayam_goreng,', u'es_teh', u'nasi_putih,'], freq=4)\n",
      "FreqItemset(items=[u'ayam_goreng,', u'nasi_putih,'], freq=6)\n",
      "FreqItemset(items=[u'kerupuk,'], freq=6)\n",
      "FreqItemset(items=[u'kerupuk,', u'es_teh'], freq=3)\n",
      "FreqItemset(items=[u'kerupuk,', u'nasi_putih,'], freq=4)\n",
      "FreqItemset(items=[u'tahu,'], freq=6)\n",
      "FreqItemset(items=[u'tahu,', u'es_teh'], freq=4)\n",
      "FreqItemset(items=[u'tahu,', u'es_teh', u'nasi_putih,'], freq=3)\n",
      "FreqItemset(items=[u'tahu,', u'nasi_putih,'], freq=3)\n",
      "FreqItemset(items=[u'nasi_goreng,'], freq=4)\n",
      "FreqItemset(items=[u'tempe,'], freq=4)\n",
      "FreqItemset(items=[u'tempe,', u'es_teh'], freq=3)\n",
      "FreqItemset(items=[u'tempe,', u'es_teh', u'nasi_putih,'], freq=3)\n",
      "FreqItemset(items=[u'tempe,', u'tahu,'], freq=3)\n",
      "FreqItemset(items=[u'tempe,', u'tahu,', u'es_teh'], freq=3)\n",
      "FreqItemset(items=[u'tempe,', u'tahu,', u'es_teh', u'nasi_putih,'], freq=3)\n",
      "FreqItemset(items=[u'tempe,', u'tahu,', u'nasi_putih,'], freq=3)\n",
      "FreqItemset(items=[u'tempe,', u'nasi_putih,'], freq=4)\n",
      "FreqItemset(items=[u''], freq=3)\n"
     ]
    }
   ],
   "source": [
    "#minSUpport=0.05\n",
    "\n",
    "from pyspark.mllib.fpm import FPGrowth\n",
    "\n",
    "data = sc.textFile(\"D:/spark/tugas3/dataset/dataset_makanan.txt\")\n",
    "transactions = data.map(lambda line: line.strip().split(' '))\n",
    "model = FPGrowth.train(transactions, minSupport=0.05, numPartitions=10)\n",
    "result = model.freqItemsets().collect()\n",
    "for fi in result:\n",
    "    print(fi)"
   ]
  },
  {
   "cell_type": "code",
   "execution_count": null,
   "metadata": {
    "collapsed": true
   },
   "outputs": [],
   "source": []
  }
 ],
 "metadata": {
  "anaconda-cloud": {},
  "kernelspec": {
   "display_name": "Python [default]",
   "language": "python",
   "name": "python2"
  },
  "language_info": {
   "codemirror_mode": {
    "name": "ipython",
    "version": 2
   },
   "file_extension": ".py",
   "mimetype": "text/x-python",
   "name": "python",
   "nbconvert_exporter": "python",
   "pygments_lexer": "ipython2",
   "version": "2.7.12"
  }
 },
 "nbformat": 4,
 "nbformat_minor": 1
}
