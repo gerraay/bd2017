{
 "cells": [
  {
   "cell_type": "markdown",
   "metadata": {},
   "source": [
    "# Konfigurasi Spark"
   ]
  },
  {
   "cell_type": "code",
   "execution_count": 1,
   "metadata": {
    "collapsed": false
   },
   "outputs": [
    {
     "name": "stdout",
     "output_type": "stream",
     "text": [
      "<pyspark.context.SparkContext object at 0x000000000267AA20>\n"
     ]
    }
   ],
   "source": [
    "import os\n",
    "import sys\n",
    "\n",
    "# 1. Mengeset variabel yang menyimpan lokasi di mana Spark diinstal\n",
    "spark_path = \"D:/spark\"\n",
    "\n",
    "# 2. Menentukan environment variable SPARK_HOME\n",
    "os.environ['SPARK_HOME'] = spark_path\n",
    "\n",
    "# 3. Simpan lokasi winutils.exe sebagai environment variable HADOOP_HOME\n",
    "os.environ['HADOOP_HOME'] = spark_path\n",
    "\n",
    "# 4. Lokasi Python yang dijalankan --> punya Anaconda\n",
    "#    Apabila Python yang diinstall hanya Anaconda, maka tidak perlu menjalankan baris ini.\n",
    "os.environ['PYSPARK_PYTHON'] = sys.executable\n",
    "\n",
    "# 5. Konfigurasi path library PySpark\n",
    "sys.path.append(spark_path + \"/bin\")\n",
    "sys.path.append(spark_path + \"/python\")\n",
    "sys.path.append(spark_path + \"/python/pyspark/\")\n",
    "sys.path.append(spark_path + \"/python/lib\")\n",
    "sys.path.append(spark_path + \"/python/lib/pyspark.zip\")\n",
    "sys.path.append(spark_path + \"/python/lib/py4j-0.10.4-src.zip\")\n",
    "\n",
    "# 6. Import library Spark\n",
    "#    Dua library yang WAJIB di-import adalah **SparkContext** dan **SparkConf**.\n",
    "from pyspark import SparkContext\n",
    "from pyspark import SparkConf\n",
    "\n",
    "# Setting konfigurasi (opsional)\n",
    "conf = SparkConf()\n",
    "conf.set(\"spark.executor.memory\", \"2g\")\n",
    "conf.set(\"spark.cores.max\", \"4\")\n",
    "\n",
    "sc = SparkContext(\"local\", conf=conf)\n",
    "#    Apabila berhasil, maka ketika sc di-print akan mengeluarkan nilai <pyspark.context.SparkContext object>\n",
    "print sc"
   ]
  },
  {
   "cell_type": "markdown",
   "metadata": {},
   "source": [
    "# Load Data & Proses Cleansing"
   ]
  },
  {
   "cell_type": "code",
   "execution_count": 219,
   "metadata": {
    "collapsed": true
   },
   "outputs": [],
   "source": [
    "# import library\n",
    "import numpy as np #for mathematical manipulation\n",
    "import pandas as pd #for database manipulation\n",
    "import matplotlib.pyplot as plt #for plotting\n",
    "import seaborn as sns #better plotting library\n",
    "%matplotlib inline"
   ]
  },
  {
   "cell_type": "code",
   "execution_count": 220,
   "metadata": {
    "collapsed": true
   },
   "outputs": [],
   "source": [
    "# read data from csv\n",
    "data = pd.read_csv('D:/spark/tugasFP/911_train.csv')"
   ]
  },
  {
   "cell_type": "code",
   "execution_count": 221,
   "metadata": {
    "collapsed": false
   },
   "outputs": [
    {
     "data": {
      "text/html": [
       "<div>\n",
       "<table border=\"1\" class=\"dataframe\">\n",
       "  <thead>\n",
       "    <tr style=\"text-align: right;\">\n",
       "      <th></th>\n",
       "      <th>lat</th>\n",
       "      <th>lng</th>\n",
       "      <th>desc</th>\n",
       "      <th>zip</th>\n",
       "      <th>title</th>\n",
       "      <th>timeStamp</th>\n",
       "      <th>twp</th>\n",
       "      <th>addr</th>\n",
       "      <th>e</th>\n",
       "    </tr>\n",
       "  </thead>\n",
       "  <tbody>\n",
       "    <tr>\n",
       "      <th>0</th>\n",
       "      <td>40.297876</td>\n",
       "      <td>-75.581294</td>\n",
       "      <td>REINDEER CT &amp; DEAD END;  NEW HANOVER; Station ...</td>\n",
       "      <td>19525.0</td>\n",
       "      <td>EMS: BACK PAINS/INJURY</td>\n",
       "      <td>2015-12-10 17:10:52</td>\n",
       "      <td>NEW HANOVER</td>\n",
       "      <td>REINDEER CT &amp; DEAD END</td>\n",
       "      <td>1</td>\n",
       "    </tr>\n",
       "    <tr>\n",
       "      <th>1</th>\n",
       "      <td>40.258061</td>\n",
       "      <td>-75.264680</td>\n",
       "      <td>BRIAR PATH &amp; WHITEMARSH LN;  HATFIELD TOWNSHIP...</td>\n",
       "      <td>19446.0</td>\n",
       "      <td>EMS: DIABETIC EMERGENCY</td>\n",
       "      <td>2015-12-10 17:29:21</td>\n",
       "      <td>HATFIELD TOWNSHIP</td>\n",
       "      <td>BRIAR PATH &amp; WHITEMARSH LN</td>\n",
       "      <td>1</td>\n",
       "    </tr>\n",
       "    <tr>\n",
       "      <th>2</th>\n",
       "      <td>40.121182</td>\n",
       "      <td>-75.351975</td>\n",
       "      <td>HAWS AVE; NORRISTOWN; 2015-12-10 @ 14:39:21-St...</td>\n",
       "      <td>19401.0</td>\n",
       "      <td>Fire: GAS-ODOR/LEAK</td>\n",
       "      <td>2015-12-10 14:39:21</td>\n",
       "      <td>NORRISTOWN</td>\n",
       "      <td>HAWS AVE</td>\n",
       "      <td>1</td>\n",
       "    </tr>\n",
       "    <tr>\n",
       "      <th>3</th>\n",
       "      <td>40.116153</td>\n",
       "      <td>-75.343513</td>\n",
       "      <td>AIRY ST &amp; SWEDE ST;  NORRISTOWN; Station 308A;...</td>\n",
       "      <td>19401.0</td>\n",
       "      <td>EMS: CARDIAC EMERGENCY</td>\n",
       "      <td>2015-12-10 16:47:36</td>\n",
       "      <td>NORRISTOWN</td>\n",
       "      <td>AIRY ST &amp; SWEDE ST</td>\n",
       "      <td>1</td>\n",
       "    </tr>\n",
       "    <tr>\n",
       "      <th>4</th>\n",
       "      <td>40.251492</td>\n",
       "      <td>-75.603350</td>\n",
       "      <td>CHERRYWOOD CT &amp; DEAD END;  LOWER POTTSGROVE; S...</td>\n",
       "      <td>NaN</td>\n",
       "      <td>EMS: DIZZINESS</td>\n",
       "      <td>2015-12-10 16:56:52</td>\n",
       "      <td>LOWER POTTSGROVE</td>\n",
       "      <td>CHERRYWOOD CT &amp; DEAD END</td>\n",
       "      <td>1</td>\n",
       "    </tr>\n",
       "  </tbody>\n",
       "</table>\n",
       "</div>"
      ],
      "text/plain": [
       "         lat        lng                                               desc  \\\n",
       "0  40.297876 -75.581294  REINDEER CT & DEAD END;  NEW HANOVER; Station ...   \n",
       "1  40.258061 -75.264680  BRIAR PATH & WHITEMARSH LN;  HATFIELD TOWNSHIP...   \n",
       "2  40.121182 -75.351975  HAWS AVE; NORRISTOWN; 2015-12-10 @ 14:39:21-St...   \n",
       "3  40.116153 -75.343513  AIRY ST & SWEDE ST;  NORRISTOWN; Station 308A;...   \n",
       "4  40.251492 -75.603350  CHERRYWOOD CT & DEAD END;  LOWER POTTSGROVE; S...   \n",
       "\n",
       "       zip                    title            timeStamp                twp  \\\n",
       "0  19525.0   EMS: BACK PAINS/INJURY  2015-12-10 17:10:52        NEW HANOVER   \n",
       "1  19446.0  EMS: DIABETIC EMERGENCY  2015-12-10 17:29:21  HATFIELD TOWNSHIP   \n",
       "2  19401.0      Fire: GAS-ODOR/LEAK  2015-12-10 14:39:21         NORRISTOWN   \n",
       "3  19401.0   EMS: CARDIAC EMERGENCY  2015-12-10 16:47:36         NORRISTOWN   \n",
       "4      NaN           EMS: DIZZINESS  2015-12-10 16:56:52   LOWER POTTSGROVE   \n",
       "\n",
       "                         addr  e  \n",
       "0      REINDEER CT & DEAD END  1  \n",
       "1  BRIAR PATH & WHITEMARSH LN  1  \n",
       "2                    HAWS AVE  1  \n",
       "3          AIRY ST & SWEDE ST  1  \n",
       "4    CHERRYWOOD CT & DEAD END  1  "
      ]
     },
     "execution_count": 221,
     "metadata": {},
     "output_type": "execute_result"
    }
   ],
   "source": [
    "data.head()"
   ]
  },
  {
   "cell_type": "code",
   "execution_count": 222,
   "metadata": {
    "collapsed": false
   },
   "outputs": [],
   "source": [
    "# lihat info tipe data dari kolom dataframe\n",
    "# data.info()"
   ]
  },
  {
   "cell_type": "code",
   "execution_count": 223,
   "metadata": {
    "collapsed": false
   },
   "outputs": [],
   "source": [
    "# drop atribut dummy 'e'\n",
    "data = data.drop('e', axis=1)"
   ]
  },
  {
   "cell_type": "code",
   "execution_count": 224,
   "metadata": {
    "collapsed": false
   },
   "outputs": [
    {
     "data": {
      "text/html": [
       "<div>\n",
       "<table border=\"1\" class=\"dataframe\">\n",
       "  <thead>\n",
       "    <tr style=\"text-align: right;\">\n",
       "      <th></th>\n",
       "      <th>lat</th>\n",
       "      <th>lng</th>\n",
       "      <th>desc</th>\n",
       "      <th>zip</th>\n",
       "      <th>title</th>\n",
       "      <th>timeStamp</th>\n",
       "      <th>twp</th>\n",
       "      <th>addr</th>\n",
       "    </tr>\n",
       "  </thead>\n",
       "  <tbody>\n",
       "    <tr>\n",
       "      <th>0</th>\n",
       "      <td>40.297876</td>\n",
       "      <td>-75.581294</td>\n",
       "      <td>REINDEER CT &amp; DEAD END;  NEW HANOVER; Station ...</td>\n",
       "      <td>19525.0</td>\n",
       "      <td>EMS: BACK PAINS/INJURY</td>\n",
       "      <td>2015-12-10 17:10:52</td>\n",
       "      <td>NEW HANOVER</td>\n",
       "      <td>REINDEER CT &amp; DEAD END</td>\n",
       "    </tr>\n",
       "    <tr>\n",
       "      <th>1</th>\n",
       "      <td>40.258061</td>\n",
       "      <td>-75.264680</td>\n",
       "      <td>BRIAR PATH &amp; WHITEMARSH LN;  HATFIELD TOWNSHIP...</td>\n",
       "      <td>19446.0</td>\n",
       "      <td>EMS: DIABETIC EMERGENCY</td>\n",
       "      <td>2015-12-10 17:29:21</td>\n",
       "      <td>HATFIELD TOWNSHIP</td>\n",
       "      <td>BRIAR PATH &amp; WHITEMARSH LN</td>\n",
       "    </tr>\n",
       "    <tr>\n",
       "      <th>2</th>\n",
       "      <td>40.121182</td>\n",
       "      <td>-75.351975</td>\n",
       "      <td>HAWS AVE; NORRISTOWN; 2015-12-10 @ 14:39:21-St...</td>\n",
       "      <td>19401.0</td>\n",
       "      <td>Fire: GAS-ODOR/LEAK</td>\n",
       "      <td>2015-12-10 14:39:21</td>\n",
       "      <td>NORRISTOWN</td>\n",
       "      <td>HAWS AVE</td>\n",
       "    </tr>\n",
       "    <tr>\n",
       "      <th>3</th>\n",
       "      <td>40.116153</td>\n",
       "      <td>-75.343513</td>\n",
       "      <td>AIRY ST &amp; SWEDE ST;  NORRISTOWN; Station 308A;...</td>\n",
       "      <td>19401.0</td>\n",
       "      <td>EMS: CARDIAC EMERGENCY</td>\n",
       "      <td>2015-12-10 16:47:36</td>\n",
       "      <td>NORRISTOWN</td>\n",
       "      <td>AIRY ST &amp; SWEDE ST</td>\n",
       "    </tr>\n",
       "    <tr>\n",
       "      <th>4</th>\n",
       "      <td>40.251492</td>\n",
       "      <td>-75.603350</td>\n",
       "      <td>CHERRYWOOD CT &amp; DEAD END;  LOWER POTTSGROVE; S...</td>\n",
       "      <td>NaN</td>\n",
       "      <td>EMS: DIZZINESS</td>\n",
       "      <td>2015-12-10 16:56:52</td>\n",
       "      <td>LOWER POTTSGROVE</td>\n",
       "      <td>CHERRYWOOD CT &amp; DEAD END</td>\n",
       "    </tr>\n",
       "  </tbody>\n",
       "</table>\n",
       "</div>"
      ],
      "text/plain": [
       "         lat        lng                                               desc  \\\n",
       "0  40.297876 -75.581294  REINDEER CT & DEAD END;  NEW HANOVER; Station ...   \n",
       "1  40.258061 -75.264680  BRIAR PATH & WHITEMARSH LN;  HATFIELD TOWNSHIP...   \n",
       "2  40.121182 -75.351975  HAWS AVE; NORRISTOWN; 2015-12-10 @ 14:39:21-St...   \n",
       "3  40.116153 -75.343513  AIRY ST & SWEDE ST;  NORRISTOWN; Station 308A;...   \n",
       "4  40.251492 -75.603350  CHERRYWOOD CT & DEAD END;  LOWER POTTSGROVE; S...   \n",
       "\n",
       "       zip                    title            timeStamp                twp  \\\n",
       "0  19525.0   EMS: BACK PAINS/INJURY  2015-12-10 17:10:52        NEW HANOVER   \n",
       "1  19446.0  EMS: DIABETIC EMERGENCY  2015-12-10 17:29:21  HATFIELD TOWNSHIP   \n",
       "2  19401.0      Fire: GAS-ODOR/LEAK  2015-12-10 14:39:21         NORRISTOWN   \n",
       "3  19401.0   EMS: CARDIAC EMERGENCY  2015-12-10 16:47:36         NORRISTOWN   \n",
       "4      NaN           EMS: DIZZINESS  2015-12-10 16:56:52   LOWER POTTSGROVE   \n",
       "\n",
       "                         addr  \n",
       "0      REINDEER CT & DEAD END  \n",
       "1  BRIAR PATH & WHITEMARSH LN  \n",
       "2                    HAWS AVE  \n",
       "3          AIRY ST & SWEDE ST  \n",
       "4    CHERRYWOOD CT & DEAD END  "
      ]
     },
     "execution_count": 224,
     "metadata": {},
     "output_type": "execute_result"
    }
   ],
   "source": [
    "data.head()"
   ]
  },
  {
   "cell_type": "code",
   "execution_count": 225,
   "metadata": {
    "collapsed": false
   },
   "outputs": [
    {
     "data": {
      "text/plain": [
       "0    19525.0\n",
       "1    19446.0\n",
       "2    19401.0\n",
       "3    19401.0\n",
       "4        NaN\n",
       "Name: zip, dtype: float64"
      ]
     },
     "execution_count": 225,
     "metadata": {},
     "output_type": "execute_result"
    }
   ],
   "source": [
    "# lihat konten atribut bernilai NaN (need cleansing)\n",
    "data['zip'].head(5)"
   ]
  },
  {
   "cell_type": "code",
   "execution_count": 226,
   "metadata": {
    "collapsed": false
   },
   "outputs": [
    {
     "name": "stdout",
     "output_type": "stream",
     "text": [
      "Jumlah data atribut 'zip' bertipe NaN: 112\n",
      "Jumlah data atribut 'zip' exception NaN: 624\n"
     ]
    }
   ],
   "source": [
    "# lihat count total NaN value in atribut 'zip'\n",
    "counter_non_nan=0\n",
    "counter_nan=0\n",
    "\n",
    "for i in range(0, len(data)):\n",
    "    tmp_data_zip_nan = data['zip'][i]\n",
    "#     tmp_data_lat_nan = data['lat'][i]\n",
    "#     print tmp_data_zip_nan\n",
    "    \n",
    "    if tmp_data_zip_nan > 0:\n",
    "        counter_non_nan+=1\n",
    "    else:\n",
    "        counter_nan+=1\n",
    "                  \n",
    "print \"Jumlah data atribut 'zip' bertipe NaN:\", counter_nan\n",
    "print \"Jumlah data atribut 'zip' exception NaN:\", counter_non_nan"
   ]
  },
  {
   "cell_type": "code",
   "execution_count": 227,
   "metadata": {
    "collapsed": false
   },
   "outputs": [
    {
     "name": "stdout",
     "output_type": "stream",
     "text": [
      "lat          736\n",
      "lng          736\n",
      "desc         736\n",
      "zip          624\n",
      "title        736\n",
      "timeStamp    736\n",
      "twp          736\n",
      "addr         736\n",
      "dtype: int64\n"
     ]
    }
   ],
   "source": [
    "# print jumlah data awal dari tabel csv\n",
    "print data.count()"
   ]
  },
  {
   "cell_type": "code",
   "execution_count": 228,
   "metadata": {
    "collapsed": false
   },
   "outputs": [
    {
     "name": "stdout",
     "output_type": "stream",
     "text": [
      "lat          624\n",
      "lng          624\n",
      "desc         624\n",
      "zip          624\n",
      "title        624\n",
      "timeStamp    624\n",
      "twp          624\n",
      "addr         624\n",
      "dtype: int64\n"
     ]
    }
   ],
   "source": [
    "# remove NaN value in all tabel (cleansing)\n",
    "clean_data = data.dropna()\n",
    "print clean_data.count()"
   ]
  },
  {
   "cell_type": "code",
   "execution_count": 229,
   "metadata": {
    "collapsed": false,
    "scrolled": true
   },
   "outputs": [
    {
     "data": {
      "text/html": [
       "<div>\n",
       "<table border=\"1\" class=\"dataframe\">\n",
       "  <thead>\n",
       "    <tr style=\"text-align: right;\">\n",
       "      <th></th>\n",
       "      <th>lat</th>\n",
       "      <th>lng</th>\n",
       "      <th>desc</th>\n",
       "      <th>zip</th>\n",
       "      <th>title</th>\n",
       "      <th>timeStamp</th>\n",
       "      <th>twp</th>\n",
       "      <th>addr</th>\n",
       "    </tr>\n",
       "  </thead>\n",
       "  <tbody>\n",
       "    <tr>\n",
       "      <th>0</th>\n",
       "      <td>40.297876</td>\n",
       "      <td>-75.581294</td>\n",
       "      <td>REINDEER CT &amp; DEAD END;  NEW HANOVER; Station ...</td>\n",
       "      <td>19525.0</td>\n",
       "      <td>EMS: BACK PAINS/INJURY</td>\n",
       "      <td>2015-12-10 17:10:52</td>\n",
       "      <td>NEW HANOVER</td>\n",
       "      <td>REINDEER CT &amp; DEAD END</td>\n",
       "    </tr>\n",
       "    <tr>\n",
       "      <th>1</th>\n",
       "      <td>40.258061</td>\n",
       "      <td>-75.264680</td>\n",
       "      <td>BRIAR PATH &amp; WHITEMARSH LN;  HATFIELD TOWNSHIP...</td>\n",
       "      <td>19446.0</td>\n",
       "      <td>EMS: DIABETIC EMERGENCY</td>\n",
       "      <td>2015-12-10 17:29:21</td>\n",
       "      <td>HATFIELD TOWNSHIP</td>\n",
       "      <td>BRIAR PATH &amp; WHITEMARSH LN</td>\n",
       "    </tr>\n",
       "    <tr>\n",
       "      <th>2</th>\n",
       "      <td>40.121182</td>\n",
       "      <td>-75.351975</td>\n",
       "      <td>HAWS AVE; NORRISTOWN; 2015-12-10 @ 14:39:21-St...</td>\n",
       "      <td>19401.0</td>\n",
       "      <td>Fire: GAS-ODOR/LEAK</td>\n",
       "      <td>2015-12-10 14:39:21</td>\n",
       "      <td>NORRISTOWN</td>\n",
       "      <td>HAWS AVE</td>\n",
       "    </tr>\n",
       "    <tr>\n",
       "      <th>3</th>\n",
       "      <td>40.116153</td>\n",
       "      <td>-75.343513</td>\n",
       "      <td>AIRY ST &amp; SWEDE ST;  NORRISTOWN; Station 308A;...</td>\n",
       "      <td>19401.0</td>\n",
       "      <td>EMS: CARDIAC EMERGENCY</td>\n",
       "      <td>2015-12-10 16:47:36</td>\n",
       "      <td>NORRISTOWN</td>\n",
       "      <td>AIRY ST &amp; SWEDE ST</td>\n",
       "    </tr>\n",
       "    <tr>\n",
       "      <th>5</th>\n",
       "      <td>40.253473</td>\n",
       "      <td>-75.283245</td>\n",
       "      <td>CANNON AVE &amp; W 9TH ST;  LANSDALE; Station 345;...</td>\n",
       "      <td>19446.0</td>\n",
       "      <td>EMS: HEAD INJURY</td>\n",
       "      <td>2015-12-10 15:39:04</td>\n",
       "      <td>LANSDALE</td>\n",
       "      <td>CANNON AVE &amp; W 9TH ST</td>\n",
       "    </tr>\n",
       "  </tbody>\n",
       "</table>\n",
       "</div>"
      ],
      "text/plain": [
       "         lat        lng                                               desc  \\\n",
       "0  40.297876 -75.581294  REINDEER CT & DEAD END;  NEW HANOVER; Station ...   \n",
       "1  40.258061 -75.264680  BRIAR PATH & WHITEMARSH LN;  HATFIELD TOWNSHIP...   \n",
       "2  40.121182 -75.351975  HAWS AVE; NORRISTOWN; 2015-12-10 @ 14:39:21-St...   \n",
       "3  40.116153 -75.343513  AIRY ST & SWEDE ST;  NORRISTOWN; Station 308A;...   \n",
       "5  40.253473 -75.283245  CANNON AVE & W 9TH ST;  LANSDALE; Station 345;...   \n",
       "\n",
       "       zip                    title            timeStamp                twp  \\\n",
       "0  19525.0   EMS: BACK PAINS/INJURY  2015-12-10 17:10:52        NEW HANOVER   \n",
       "1  19446.0  EMS: DIABETIC EMERGENCY  2015-12-10 17:29:21  HATFIELD TOWNSHIP   \n",
       "2  19401.0      Fire: GAS-ODOR/LEAK  2015-12-10 14:39:21         NORRISTOWN   \n",
       "3  19401.0   EMS: CARDIAC EMERGENCY  2015-12-10 16:47:36         NORRISTOWN   \n",
       "5  19446.0         EMS: HEAD INJURY  2015-12-10 15:39:04           LANSDALE   \n",
       "\n",
       "                         addr  \n",
       "0      REINDEER CT & DEAD END  \n",
       "1  BRIAR PATH & WHITEMARSH LN  \n",
       "2                    HAWS AVE  \n",
       "3          AIRY ST & SWEDE ST  \n",
       "5       CANNON AVE & W 9TH ST  "
      ]
     },
     "execution_count": 229,
     "metadata": {},
     "output_type": "execute_result"
    }
   ],
   "source": [
    "clean_data.head()"
   ]
  },
  {
   "cell_type": "markdown",
   "metadata": {},
   "source": [
    "# Proses Analisis Data"
   ]
  },
  {
   "cell_type": "code",
   "execution_count": 232,
   "metadata": {
    "collapsed": false
   },
   "outputs": [
    {
     "data": {
      "text/html": [
       "<div>\n",
       "<table border=\"1\" class=\"dataframe\">\n",
       "  <thead>\n",
       "    <tr style=\"text-align: right;\">\n",
       "      <th></th>\n",
       "      <th>zip_code</th>\n",
       "      <th>jumlah_call</th>\n",
       "    </tr>\n",
       "  </thead>\n",
       "  <tbody>\n",
       "    <tr>\n",
       "      <th>0</th>\n",
       "      <td>19401.0</td>\n",
       "      <td>58</td>\n",
       "    </tr>\n",
       "    <tr>\n",
       "      <th>1</th>\n",
       "      <td>19464.0</td>\n",
       "      <td>47</td>\n",
       "    </tr>\n",
       "    <tr>\n",
       "      <th>2</th>\n",
       "      <td>19403.0</td>\n",
       "      <td>44</td>\n",
       "    </tr>\n",
       "    <tr>\n",
       "      <th>3</th>\n",
       "      <td>19446.0</td>\n",
       "      <td>37</td>\n",
       "    </tr>\n",
       "    <tr>\n",
       "      <th>4</th>\n",
       "      <td>19468.0</td>\n",
       "      <td>25</td>\n",
       "    </tr>\n",
       "    <tr>\n",
       "      <th>5</th>\n",
       "      <td>19406.0</td>\n",
       "      <td>24</td>\n",
       "    </tr>\n",
       "    <tr>\n",
       "      <th>6</th>\n",
       "      <td>19038.0</td>\n",
       "      <td>21</td>\n",
       "    </tr>\n",
       "    <tr>\n",
       "      <th>7</th>\n",
       "      <td>19428.0</td>\n",
       "      <td>21</td>\n",
       "    </tr>\n",
       "    <tr>\n",
       "      <th>8</th>\n",
       "      <td>19006.0</td>\n",
       "      <td>18</td>\n",
       "    </tr>\n",
       "    <tr>\n",
       "      <th>9</th>\n",
       "      <td>19454.0</td>\n",
       "      <td>18</td>\n",
       "    </tr>\n",
       "  </tbody>\n",
       "</table>\n",
       "</div>"
      ],
      "text/plain": [
       "   zip_code  jumlah_call\n",
       "0   19401.0           58\n",
       "1   19464.0           47\n",
       "2   19403.0           44\n",
       "3   19446.0           37\n",
       "4   19468.0           25\n",
       "5   19406.0           24\n",
       "6   19038.0           21\n",
       "7   19428.0           21\n",
       "8   19006.0           18\n",
       "9   19454.0           18"
      ]
     },
     "execution_count": 232,
     "metadata": {},
     "output_type": "execute_result"
    }
   ],
   "source": [
    "# get top10 zip code in emergency call from all data\n",
    "top10_zip_all = pd.DataFrame(clean_data['zip'].value_counts().head(10))\n",
    "top10_zip_all.reset_index(inplace=True)\n",
    "top10_zip_all.columns = ['zip_code', 'jumlah_call']\n",
    "top10_zip_all\n",
    "\n",
    "# index=1\n",
    "# for i in range(0, len(top10_zip)):\n",
    "#     print \"Peringkat ke-\", top10_zip[:index]\n",
    "#     index+=1"
   ]
  },
  {
   "cell_type": "code",
   "execution_count": 234,
   "metadata": {
    "collapsed": false
   },
   "outputs": [
    {
     "data": {
      "text/html": [
       "<div>\n",
       "<table border=\"1\" class=\"dataframe\">\n",
       "  <thead>\n",
       "    <tr style=\"text-align: right;\">\n",
       "      <th></th>\n",
       "      <th>township</th>\n",
       "      <th>jumlah_call</th>\n",
       "    </tr>\n",
       "  </thead>\n",
       "  <tbody>\n",
       "    <tr>\n",
       "      <th>0</th>\n",
       "      <td>NORRISTOWN</td>\n",
       "      <td>47</td>\n",
       "    </tr>\n",
       "    <tr>\n",
       "      <th>1</th>\n",
       "      <td>LOWER MERION</td>\n",
       "      <td>46</td>\n",
       "    </tr>\n",
       "    <tr>\n",
       "      <th>2</th>\n",
       "      <td>CHELTENHAM</td>\n",
       "      <td>34</td>\n",
       "    </tr>\n",
       "    <tr>\n",
       "      <th>3</th>\n",
       "      <td>ABINGTON</td>\n",
       "      <td>33</td>\n",
       "    </tr>\n",
       "    <tr>\n",
       "      <th>4</th>\n",
       "      <td>POTTSTOWN</td>\n",
       "      <td>32</td>\n",
       "    </tr>\n",
       "    <tr>\n",
       "      <th>5</th>\n",
       "      <td>WHITEMARSH</td>\n",
       "      <td>24</td>\n",
       "    </tr>\n",
       "    <tr>\n",
       "      <th>6</th>\n",
       "      <td>UPPER MERION</td>\n",
       "      <td>24</td>\n",
       "    </tr>\n",
       "    <tr>\n",
       "      <th>7</th>\n",
       "      <td>LOWER PROVIDENCE</td>\n",
       "      <td>23</td>\n",
       "    </tr>\n",
       "    <tr>\n",
       "      <th>8</th>\n",
       "      <td>LIMERICK</td>\n",
       "      <td>20</td>\n",
       "    </tr>\n",
       "    <tr>\n",
       "      <th>9</th>\n",
       "      <td>MONTGOMERY</td>\n",
       "      <td>19</td>\n",
       "    </tr>\n",
       "  </tbody>\n",
       "</table>\n",
       "</div>"
      ],
      "text/plain": [
       "           township  jumlah_call\n",
       "0        NORRISTOWN           47\n",
       "1      LOWER MERION           46\n",
       "2        CHELTENHAM           34\n",
       "3          ABINGTON           33\n",
       "4         POTTSTOWN           32\n",
       "5        WHITEMARSH           24\n",
       "6      UPPER MERION           24\n",
       "7  LOWER PROVIDENCE           23\n",
       "8          LIMERICK           20\n",
       "9        MONTGOMERY           19"
      ]
     },
     "execution_count": 234,
     "metadata": {},
     "output_type": "execute_result"
    }
   ],
   "source": [
    "# get top10 township in emergency call from train data\n",
    "top10_town = pd.DataFrame(clean_data['twp'].value_counts().head(10))\n",
    "top10_town.reset_index(inplace=True)\n",
    "top10_town.columns = ['township', 'jumlah_call']\n",
    "top10_town"
   ]
  },
  {
   "cell_type": "code",
   "execution_count": 235,
   "metadata": {
    "collapsed": false
   },
   "outputs": [
    {
     "data": {
      "text/html": [
       "<div>\n",
       "<table border=\"1\" class=\"dataframe\">\n",
       "  <thead>\n",
       "    <tr style=\"text-align: right;\">\n",
       "      <th></th>\n",
       "      <th>title_incident</th>\n",
       "      <th>jumlah_call</th>\n",
       "    </tr>\n",
       "  </thead>\n",
       "  <tbody>\n",
       "    <tr>\n",
       "      <th>0</th>\n",
       "      <td>Traffic: VEHICLE ACCIDENT -</td>\n",
       "      <td>152</td>\n",
       "    </tr>\n",
       "    <tr>\n",
       "      <th>1</th>\n",
       "      <td>Fire: FIRE ALARM</td>\n",
       "      <td>46</td>\n",
       "    </tr>\n",
       "    <tr>\n",
       "      <th>2</th>\n",
       "      <td>EMS: CARDIAC EMERGENCY</td>\n",
       "      <td>36</td>\n",
       "    </tr>\n",
       "    <tr>\n",
       "      <th>3</th>\n",
       "      <td>Traffic: DISABLED VEHICLE -</td>\n",
       "      <td>35</td>\n",
       "    </tr>\n",
       "    <tr>\n",
       "      <th>4</th>\n",
       "      <td>EMS: FALL VICTIM</td>\n",
       "      <td>34</td>\n",
       "    </tr>\n",
       "    <tr>\n",
       "      <th>5</th>\n",
       "      <td>EMS: RESPIRATORY EMERGENCY</td>\n",
       "      <td>31</td>\n",
       "    </tr>\n",
       "    <tr>\n",
       "      <th>6</th>\n",
       "      <td>EMS: HEAD INJURY</td>\n",
       "      <td>20</td>\n",
       "    </tr>\n",
       "    <tr>\n",
       "      <th>7</th>\n",
       "      <td>EMS: VEHICLE ACCIDENT</td>\n",
       "      <td>17</td>\n",
       "    </tr>\n",
       "    <tr>\n",
       "      <th>8</th>\n",
       "      <td>EMS: SUBJECT IN PAIN</td>\n",
       "      <td>16</td>\n",
       "    </tr>\n",
       "    <tr>\n",
       "      <th>9</th>\n",
       "      <td>EMS: SYNCOPAL EPISODE</td>\n",
       "      <td>14</td>\n",
       "    </tr>\n",
       "  </tbody>\n",
       "</table>\n",
       "</div>"
      ],
      "text/plain": [
       "                title_incident  jumlah_call\n",
       "0  Traffic: VEHICLE ACCIDENT -          152\n",
       "1             Fire: FIRE ALARM           46\n",
       "2       EMS: CARDIAC EMERGENCY           36\n",
       "3  Traffic: DISABLED VEHICLE -           35\n",
       "4             EMS: FALL VICTIM           34\n",
       "5   EMS: RESPIRATORY EMERGENCY           31\n",
       "6             EMS: HEAD INJURY           20\n",
       "7        EMS: VEHICLE ACCIDENT           17\n",
       "8         EMS: SUBJECT IN PAIN           16\n",
       "9        EMS: SYNCOPAL EPISODE           14"
      ]
     },
     "execution_count": 235,
     "metadata": {},
     "output_type": "execute_result"
    }
   ],
   "source": [
    "# get top10 title from incident in emergency call from train data\n",
    "top10_title = pd.DataFrame(clean_data['title'].value_counts().head(10))\n",
    "top10_title.reset_index(inplace=True)\n",
    "top10_title.columns = ['title_incident', 'jumlah_call']\n",
    "top10_title"
   ]
  },
  {
   "cell_type": "code",
   "execution_count": 236,
   "metadata": {
    "collapsed": false
   },
   "outputs": [
    {
     "name": "stderr",
     "output_type": "stream",
     "text": [
      "C:\\Users\\ASUS-PC\\Anaconda2\\lib\\site-packages\\ipykernel\\__main__.py:3: SettingWithCopyWarning: \n",
      "A value is trying to be set on a copy of a slice from a DataFrame.\n",
      "Try using .loc[row_indexer,col_indexer] = value instead\n",
      "\n",
      "See the caveats in the documentation: http://pandas.pydata.org/pandas-docs/stable/indexing.html#indexing-view-versus-copy\n",
      "  app.launch_new_instance()\n"
     ]
    },
    {
     "data": {
      "text/html": [
       "<div>\n",
       "<table border=\"1\" class=\"dataframe\">\n",
       "  <thead>\n",
       "    <tr style=\"text-align: right;\">\n",
       "      <th></th>\n",
       "      <th>major_incident</th>\n",
       "      <th>jumlah_call</th>\n",
       "    </tr>\n",
       "  </thead>\n",
       "  <tbody>\n",
       "    <tr>\n",
       "      <th>0</th>\n",
       "      <td>EMS</td>\n",
       "      <td>319</td>\n",
       "    </tr>\n",
       "    <tr>\n",
       "      <th>1</th>\n",
       "      <td>Traffic</td>\n",
       "      <td>202</td>\n",
       "    </tr>\n",
       "    <tr>\n",
       "      <th>2</th>\n",
       "      <td>Fire</td>\n",
       "      <td>103</td>\n",
       "    </tr>\n",
       "  </tbody>\n",
       "</table>\n",
       "</div>"
      ],
      "text/plain": [
       "  major_incident  jumlah_call\n",
       "0            EMS          319\n",
       "1        Traffic          202\n",
       "2           Fire          103"
      ]
     },
     "execution_count": 236,
     "metadata": {},
     "output_type": "execute_result"
    }
   ],
   "source": [
    "# get most major incident categories from train data\n",
    "\n",
    "clean_data['major_incident'] = clean_data['title'].apply(lambda v:v.split(':')[0])\n",
    "most_major_incidents = clean_data['major_incident'].value_counts()\n",
    "# print most_major_incidents\n",
    "\n",
    "most_major_incident = pd.DataFrame(most_major_incidents)\n",
    "most_major_incident.reset_index(inplace=True)\n",
    "most_major_incident.columns = ['major_incident', 'jumlah_call']\n",
    "most_major_incident"
   ]
  },
  {
   "cell_type": "code",
   "execution_count": 237,
   "metadata": {
    "collapsed": false
   },
   "outputs": [
    {
     "name": "stderr",
     "output_type": "stream",
     "text": [
      "C:\\Users\\ASUS-PC\\Anaconda2\\lib\\site-packages\\ipykernel\\__main__.py:3: SettingWithCopyWarning: \n",
      "A value is trying to be set on a copy of a slice from a DataFrame.\n",
      "Try using .loc[row_indexer,col_indexer] = value instead\n",
      "\n",
      "See the caveats in the documentation: http://pandas.pydata.org/pandas-docs/stable/indexing.html#indexing-view-versus-copy\n",
      "  app.launch_new_instance()\n"
     ]
    },
    {
     "data": {
      "text/html": [
       "<div>\n",
       "<table border=\"1\" class=\"dataframe\">\n",
       "  <thead>\n",
       "    <tr style=\"text-align: right;\">\n",
       "      <th></th>\n",
       "      <th>sub_incident</th>\n",
       "      <th>jumlah_call</th>\n",
       "    </tr>\n",
       "  </thead>\n",
       "  <tbody>\n",
       "    <tr>\n",
       "      <th>0</th>\n",
       "      <td>VEHICLE ACCIDENT -</td>\n",
       "      <td>152</td>\n",
       "    </tr>\n",
       "    <tr>\n",
       "      <th>1</th>\n",
       "      <td>FIRE ALARM</td>\n",
       "      <td>46</td>\n",
       "    </tr>\n",
       "    <tr>\n",
       "      <th>2</th>\n",
       "      <td>CARDIAC EMERGENCY</td>\n",
       "      <td>36</td>\n",
       "    </tr>\n",
       "    <tr>\n",
       "      <th>3</th>\n",
       "      <td>DISABLED VEHICLE -</td>\n",
       "      <td>35</td>\n",
       "    </tr>\n",
       "    <tr>\n",
       "      <th>4</th>\n",
       "      <td>FALL VICTIM</td>\n",
       "      <td>34</td>\n",
       "    </tr>\n",
       "    <tr>\n",
       "      <th>5</th>\n",
       "      <td>RESPIRATORY EMERGENCY</td>\n",
       "      <td>31</td>\n",
       "    </tr>\n",
       "    <tr>\n",
       "      <th>6</th>\n",
       "      <td>VEHICLE ACCIDENT</td>\n",
       "      <td>25</td>\n",
       "    </tr>\n",
       "    <tr>\n",
       "      <th>7</th>\n",
       "      <td>HEAD INJURY</td>\n",
       "      <td>20</td>\n",
       "    </tr>\n",
       "    <tr>\n",
       "      <th>8</th>\n",
       "      <td>SUBJECT IN PAIN</td>\n",
       "      <td>16</td>\n",
       "    </tr>\n",
       "    <tr>\n",
       "      <th>9</th>\n",
       "      <td>SYNCOPAL EPISODE</td>\n",
       "      <td>14</td>\n",
       "    </tr>\n",
       "  </tbody>\n",
       "</table>\n",
       "</div>"
      ],
      "text/plain": [
       "             sub_incident  jumlah_call\n",
       "0      VEHICLE ACCIDENT -          152\n",
       "1              FIRE ALARM           46\n",
       "2       CARDIAC EMERGENCY           36\n",
       "3      DISABLED VEHICLE -           35\n",
       "4             FALL VICTIM           34\n",
       "5   RESPIRATORY EMERGENCY           31\n",
       "6        VEHICLE ACCIDENT           25\n",
       "7             HEAD INJURY           20\n",
       "8         SUBJECT IN PAIN           16\n",
       "9        SYNCOPAL EPISODE           14"
      ]
     },
     "execution_count": 237,
     "metadata": {},
     "output_type": "execute_result"
    }
   ],
   "source": [
    "# get most sub incident categories from train data\n",
    "\n",
    "clean_data['sub_incident'] = clean_data['title'].apply(lambda v:v.split(':')[1])\n",
    "most_sub_incidents = clean_data['sub_incident'].value_counts()\n",
    "# print most_sub_incidents\n",
    "\n",
    "most_sub_incident = pd.DataFrame(most_sub_incidents)\n",
    "most_sub_incident.reset_index(inplace=True)\n",
    "most_sub_incident.columns = ['sub_incident', 'jumlah_call']\n",
    "most_sub_incident.head(10)"
   ]
  },
  {
   "cell_type": "code",
   "execution_count": 238,
   "metadata": {
    "collapsed": false
   },
   "outputs": [
    {
     "name": "stderr",
     "output_type": "stream",
     "text": [
      "C:\\Users\\ASUS-PC\\Anaconda2\\lib\\site-packages\\ipykernel\\__main__.py:3: SettingWithCopyWarning: \n",
      "A value is trying to be set on a copy of a slice from a DataFrame.\n",
      "Try using .loc[row_indexer,col_indexer] = value instead\n",
      "\n",
      "See the caveats in the documentation: http://pandas.pydata.org/pandas-docs/stable/indexing.html#indexing-view-versus-copy\n",
      "  app.launch_new_instance()\n",
      "C:\\Users\\ASUS-PC\\Anaconda2\\lib\\site-packages\\ipykernel\\__main__.py:6: SettingWithCopyWarning: \n",
      "A value is trying to be set on a copy of a slice from a DataFrame.\n",
      "Try using .loc[row_indexer,col_indexer] = value instead\n",
      "\n",
      "See the caveats in the documentation: http://pandas.pydata.org/pandas-docs/stable/indexing.html#indexing-view-versus-copy\n",
      "C:\\Users\\ASUS-PC\\Anaconda2\\lib\\site-packages\\ipykernel\\__main__.py:7: SettingWithCopyWarning: \n",
      "A value is trying to be set on a copy of a slice from a DataFrame.\n",
      "Try using .loc[row_indexer,col_indexer] = value instead\n",
      "\n",
      "See the caveats in the documentation: http://pandas.pydata.org/pandas-docs/stable/indexing.html#indexing-view-versus-copy\n",
      "C:\\Users\\ASUS-PC\\Anaconda2\\lib\\site-packages\\ipykernel\\__main__.py:8: SettingWithCopyWarning: \n",
      "A value is trying to be set on a copy of a slice from a DataFrame.\n",
      "Try using .loc[row_indexer,col_indexer] = value instead\n",
      "\n",
      "See the caveats in the documentation: http://pandas.pydata.org/pandas-docs/stable/indexing.html#indexing-view-versus-copy\n",
      "C:\\Users\\ASUS-PC\\Anaconda2\\lib\\site-packages\\ipykernel\\__main__.py:9: SettingWithCopyWarning: \n",
      "A value is trying to be set on a copy of a slice from a DataFrame.\n",
      "Try using .loc[row_indexer,col_indexer] = value instead\n",
      "\n",
      "See the caveats in the documentation: http://pandas.pydata.org/pandas-docs/stable/indexing.html#indexing-view-versus-copy\n",
      "C:\\Users\\ASUS-PC\\Anaconda2\\lib\\site-packages\\ipykernel\\__main__.py:10: SettingWithCopyWarning: \n",
      "A value is trying to be set on a copy of a slice from a DataFrame.\n",
      "Try using .loc[row_indexer,col_indexer] = value instead\n",
      "\n",
      "See the caveats in the documentation: http://pandas.pydata.org/pandas-docs/stable/indexing.html#indexing-view-versus-copy\n",
      "C:\\Users\\ASUS-PC\\Anaconda2\\lib\\site-packages\\ipykernel\\__main__.py:15: SettingWithCopyWarning: \n",
      "A value is trying to be set on a copy of a slice from a DataFrame.\n",
      "Try using .loc[row_indexer,col_indexer] = value instead\n",
      "\n",
      "See the caveats in the documentation: http://pandas.pydata.org/pandas-docs/stable/indexing.html#indexing-view-versus-copy\n"
     ]
    }
   ],
   "source": [
    "# get breakdown timestamp in every incident\n",
    "\n",
    "clean_data['timeStamp'] = pd.to_datetime(clean_data['timeStamp'])\n",
    "# print clean_data['timeStamp']\n",
    "\n",
    "clean_data['hour'] = clean_data['timeStamp'].apply(lambda v:v.hour)\n",
    "clean_data['dayOfWeek'] = clean_data['timeStamp'].apply(lambda v:v.dayofweek)\n",
    "clean_data['month'] = clean_data['timeStamp'].apply(lambda v:v.month)\n",
    "clean_data['year'] = clean_data['timeStamp'].apply(lambda v:v.year)\n",
    "clean_data['date'] = clean_data['timeStamp'].apply(lambda v:v.date())\n",
    "# print clean_data['Hour']\n",
    "\n",
    "# map day values to show day\n",
    "day_map = {0:'Senin', 1:'Selasa', 2:'Rabu', 3:'Kamis', 4:'Jumat', 5:'Sabtu', 6:'Minggu'}\n",
    "clean_data['dayOfWeek'] = clean_data['dayOfWeek'].map(day_map)"
   ]
  },
  {
   "cell_type": "code",
   "execution_count": 239,
   "metadata": {
    "collapsed": false
   },
   "outputs": [
    {
     "data": {
      "text/html": [
       "<div>\n",
       "<table border=\"1\" class=\"dataframe\">\n",
       "  <thead>\n",
       "    <tr style=\"text-align: right;\">\n",
       "      <th></th>\n",
       "      <th>lat</th>\n",
       "      <th>lng</th>\n",
       "      <th>desc</th>\n",
       "      <th>zip</th>\n",
       "      <th>title</th>\n",
       "      <th>timeStamp</th>\n",
       "      <th>twp</th>\n",
       "      <th>addr</th>\n",
       "      <th>major_incident</th>\n",
       "      <th>sub_incident</th>\n",
       "      <th>hour</th>\n",
       "      <th>dayOfWeek</th>\n",
       "      <th>month</th>\n",
       "      <th>year</th>\n",
       "      <th>date</th>\n",
       "    </tr>\n",
       "  </thead>\n",
       "  <tbody>\n",
       "    <tr>\n",
       "      <th>0</th>\n",
       "      <td>40.297876</td>\n",
       "      <td>-75.581294</td>\n",
       "      <td>REINDEER CT &amp; DEAD END;  NEW HANOVER; Station ...</td>\n",
       "      <td>19525.0</td>\n",
       "      <td>EMS: BACK PAINS/INJURY</td>\n",
       "      <td>2015-12-10 17:10:52</td>\n",
       "      <td>NEW HANOVER</td>\n",
       "      <td>REINDEER CT &amp; DEAD END</td>\n",
       "      <td>EMS</td>\n",
       "      <td>BACK PAINS/INJURY</td>\n",
       "      <td>17</td>\n",
       "      <td>Kamis</td>\n",
       "      <td>12</td>\n",
       "      <td>2015</td>\n",
       "      <td>2015-12-10</td>\n",
       "    </tr>\n",
       "    <tr>\n",
       "      <th>1</th>\n",
       "      <td>40.258061</td>\n",
       "      <td>-75.264680</td>\n",
       "      <td>BRIAR PATH &amp; WHITEMARSH LN;  HATFIELD TOWNSHIP...</td>\n",
       "      <td>19446.0</td>\n",
       "      <td>EMS: DIABETIC EMERGENCY</td>\n",
       "      <td>2015-12-10 17:29:21</td>\n",
       "      <td>HATFIELD TOWNSHIP</td>\n",
       "      <td>BRIAR PATH &amp; WHITEMARSH LN</td>\n",
       "      <td>EMS</td>\n",
       "      <td>DIABETIC EMERGENCY</td>\n",
       "      <td>17</td>\n",
       "      <td>Kamis</td>\n",
       "      <td>12</td>\n",
       "      <td>2015</td>\n",
       "      <td>2015-12-10</td>\n",
       "    </tr>\n",
       "    <tr>\n",
       "      <th>2</th>\n",
       "      <td>40.121182</td>\n",
       "      <td>-75.351975</td>\n",
       "      <td>HAWS AVE; NORRISTOWN; 2015-12-10 @ 14:39:21-St...</td>\n",
       "      <td>19401.0</td>\n",
       "      <td>Fire: GAS-ODOR/LEAK</td>\n",
       "      <td>2015-12-10 14:39:21</td>\n",
       "      <td>NORRISTOWN</td>\n",
       "      <td>HAWS AVE</td>\n",
       "      <td>Fire</td>\n",
       "      <td>GAS-ODOR/LEAK</td>\n",
       "      <td>14</td>\n",
       "      <td>Kamis</td>\n",
       "      <td>12</td>\n",
       "      <td>2015</td>\n",
       "      <td>2015-12-10</td>\n",
       "    </tr>\n",
       "    <tr>\n",
       "      <th>3</th>\n",
       "      <td>40.116153</td>\n",
       "      <td>-75.343513</td>\n",
       "      <td>AIRY ST &amp; SWEDE ST;  NORRISTOWN; Station 308A;...</td>\n",
       "      <td>19401.0</td>\n",
       "      <td>EMS: CARDIAC EMERGENCY</td>\n",
       "      <td>2015-12-10 16:47:36</td>\n",
       "      <td>NORRISTOWN</td>\n",
       "      <td>AIRY ST &amp; SWEDE ST</td>\n",
       "      <td>EMS</td>\n",
       "      <td>CARDIAC EMERGENCY</td>\n",
       "      <td>16</td>\n",
       "      <td>Kamis</td>\n",
       "      <td>12</td>\n",
       "      <td>2015</td>\n",
       "      <td>2015-12-10</td>\n",
       "    </tr>\n",
       "    <tr>\n",
       "      <th>5</th>\n",
       "      <td>40.253473</td>\n",
       "      <td>-75.283245</td>\n",
       "      <td>CANNON AVE &amp; W 9TH ST;  LANSDALE; Station 345;...</td>\n",
       "      <td>19446.0</td>\n",
       "      <td>EMS: HEAD INJURY</td>\n",
       "      <td>2015-12-10 15:39:04</td>\n",
       "      <td>LANSDALE</td>\n",
       "      <td>CANNON AVE &amp; W 9TH ST</td>\n",
       "      <td>EMS</td>\n",
       "      <td>HEAD INJURY</td>\n",
       "      <td>15</td>\n",
       "      <td>Kamis</td>\n",
       "      <td>12</td>\n",
       "      <td>2015</td>\n",
       "      <td>2015-12-10</td>\n",
       "    </tr>\n",
       "  </tbody>\n",
       "</table>\n",
       "</div>"
      ],
      "text/plain": [
       "         lat        lng                                               desc  \\\n",
       "0  40.297876 -75.581294  REINDEER CT & DEAD END;  NEW HANOVER; Station ...   \n",
       "1  40.258061 -75.264680  BRIAR PATH & WHITEMARSH LN;  HATFIELD TOWNSHIP...   \n",
       "2  40.121182 -75.351975  HAWS AVE; NORRISTOWN; 2015-12-10 @ 14:39:21-St...   \n",
       "3  40.116153 -75.343513  AIRY ST & SWEDE ST;  NORRISTOWN; Station 308A;...   \n",
       "5  40.253473 -75.283245  CANNON AVE & W 9TH ST;  LANSDALE; Station 345;...   \n",
       "\n",
       "       zip                    title           timeStamp                twp  \\\n",
       "0  19525.0   EMS: BACK PAINS/INJURY 2015-12-10 17:10:52        NEW HANOVER   \n",
       "1  19446.0  EMS: DIABETIC EMERGENCY 2015-12-10 17:29:21  HATFIELD TOWNSHIP   \n",
       "2  19401.0      Fire: GAS-ODOR/LEAK 2015-12-10 14:39:21         NORRISTOWN   \n",
       "3  19401.0   EMS: CARDIAC EMERGENCY 2015-12-10 16:47:36         NORRISTOWN   \n",
       "5  19446.0         EMS: HEAD INJURY 2015-12-10 15:39:04           LANSDALE   \n",
       "\n",
       "                         addr major_incident         sub_incident  hour  \\\n",
       "0      REINDEER CT & DEAD END            EMS    BACK PAINS/INJURY    17   \n",
       "1  BRIAR PATH & WHITEMARSH LN            EMS   DIABETIC EMERGENCY    17   \n",
       "2                    HAWS AVE           Fire        GAS-ODOR/LEAK    14   \n",
       "3          AIRY ST & SWEDE ST            EMS    CARDIAC EMERGENCY    16   \n",
       "5       CANNON AVE & W 9TH ST            EMS          HEAD INJURY    15   \n",
       "\n",
       "  dayOfWeek  month  year        date  \n",
       "0     Kamis     12  2015  2015-12-10  \n",
       "1     Kamis     12  2015  2015-12-10  \n",
       "2     Kamis     12  2015  2015-12-10  \n",
       "3     Kamis     12  2015  2015-12-10  \n",
       "5     Kamis     12  2015  2015-12-10  "
      ]
     },
     "execution_count": 239,
     "metadata": {},
     "output_type": "execute_result"
    }
   ],
   "source": [
    "clean_data.head()"
   ]
  },
  {
   "cell_type": "code",
   "execution_count": 240,
   "metadata": {
    "collapsed": true
   },
   "outputs": [],
   "source": [
    "# make new tabel flag_data untuk menampung flag dari analisa kelas waktu (pagi, siang, sore, malam) incident\n",
    "flag_data = clean_data.copy()"
   ]
  },
  {
   "cell_type": "code",
   "execution_count": 241,
   "metadata": {
    "collapsed": true
   },
   "outputs": [],
   "source": [
    "flag_data.reset_index().drop('index', axis=1, inplace=True)"
   ]
  },
  {
   "cell_type": "code",
   "execution_count": 244,
   "metadata": {
    "collapsed": false
   },
   "outputs": [],
   "source": [
    "# flag_data.head()"
   ]
  },
  {
   "cell_type": "code",
   "execution_count": 243,
   "metadata": {
    "collapsed": false
   },
   "outputs": [],
   "source": [
    "# inisiasi awal value di atribut baru (tmp_class_time_incident dan flag_class_time_incident)\n",
    "\n",
    "# flag_data['tmp_class_time_incident'] = ''\n",
    "# flag_data['flag_class_time_incident'] = 0\n",
    "\n",
    "flag_data['tmp_class_time_incident'] = '-1'\n",
    "flag_data['flag_class_time_incident'] = -1"
   ]
  },
  {
   "cell_type": "code",
   "execution_count": 245,
   "metadata": {
    "collapsed": false
   },
   "outputs": [
    {
     "data": {
      "text/html": [
       "<div>\n",
       "<table border=\"1\" class=\"dataframe\">\n",
       "  <thead>\n",
       "    <tr style=\"text-align: right;\">\n",
       "      <th></th>\n",
       "      <th>lat</th>\n",
       "      <th>lng</th>\n",
       "      <th>desc</th>\n",
       "      <th>zip</th>\n",
       "      <th>title</th>\n",
       "      <th>timeStamp</th>\n",
       "      <th>twp</th>\n",
       "      <th>addr</th>\n",
       "      <th>major_incident</th>\n",
       "      <th>sub_incident</th>\n",
       "      <th>hour</th>\n",
       "      <th>dayOfWeek</th>\n",
       "      <th>month</th>\n",
       "      <th>year</th>\n",
       "      <th>date</th>\n",
       "      <th>tmp_class_time_incident</th>\n",
       "      <th>flag_class_time_incident</th>\n",
       "    </tr>\n",
       "  </thead>\n",
       "  <tbody>\n",
       "    <tr>\n",
       "      <th>0</th>\n",
       "      <td>40.297876</td>\n",
       "      <td>-75.581294</td>\n",
       "      <td>REINDEER CT &amp; DEAD END;  NEW HANOVER; Station ...</td>\n",
       "      <td>19525.0</td>\n",
       "      <td>EMS: BACK PAINS/INJURY</td>\n",
       "      <td>2015-12-10 17:10:52</td>\n",
       "      <td>NEW HANOVER</td>\n",
       "      <td>REINDEER CT &amp; DEAD END</td>\n",
       "      <td>EMS</td>\n",
       "      <td>BACK PAINS/INJURY</td>\n",
       "      <td>17</td>\n",
       "      <td>Kamis</td>\n",
       "      <td>12</td>\n",
       "      <td>2015</td>\n",
       "      <td>2015-12-10</td>\n",
       "      <td>-1</td>\n",
       "      <td>-1</td>\n",
       "    </tr>\n",
       "    <tr>\n",
       "      <th>1</th>\n",
       "      <td>40.258061</td>\n",
       "      <td>-75.264680</td>\n",
       "      <td>BRIAR PATH &amp; WHITEMARSH LN;  HATFIELD TOWNSHIP...</td>\n",
       "      <td>19446.0</td>\n",
       "      <td>EMS: DIABETIC EMERGENCY</td>\n",
       "      <td>2015-12-10 17:29:21</td>\n",
       "      <td>HATFIELD TOWNSHIP</td>\n",
       "      <td>BRIAR PATH &amp; WHITEMARSH LN</td>\n",
       "      <td>EMS</td>\n",
       "      <td>DIABETIC EMERGENCY</td>\n",
       "      <td>17</td>\n",
       "      <td>Kamis</td>\n",
       "      <td>12</td>\n",
       "      <td>2015</td>\n",
       "      <td>2015-12-10</td>\n",
       "      <td>-1</td>\n",
       "      <td>-1</td>\n",
       "    </tr>\n",
       "    <tr>\n",
       "      <th>2</th>\n",
       "      <td>40.121182</td>\n",
       "      <td>-75.351975</td>\n",
       "      <td>HAWS AVE; NORRISTOWN; 2015-12-10 @ 14:39:21-St...</td>\n",
       "      <td>19401.0</td>\n",
       "      <td>Fire: GAS-ODOR/LEAK</td>\n",
       "      <td>2015-12-10 14:39:21</td>\n",
       "      <td>NORRISTOWN</td>\n",
       "      <td>HAWS AVE</td>\n",
       "      <td>Fire</td>\n",
       "      <td>GAS-ODOR/LEAK</td>\n",
       "      <td>14</td>\n",
       "      <td>Kamis</td>\n",
       "      <td>12</td>\n",
       "      <td>2015</td>\n",
       "      <td>2015-12-10</td>\n",
       "      <td>-1</td>\n",
       "      <td>-1</td>\n",
       "    </tr>\n",
       "    <tr>\n",
       "      <th>3</th>\n",
       "      <td>40.116153</td>\n",
       "      <td>-75.343513</td>\n",
       "      <td>AIRY ST &amp; SWEDE ST;  NORRISTOWN; Station 308A;...</td>\n",
       "      <td>19401.0</td>\n",
       "      <td>EMS: CARDIAC EMERGENCY</td>\n",
       "      <td>2015-12-10 16:47:36</td>\n",
       "      <td>NORRISTOWN</td>\n",
       "      <td>AIRY ST &amp; SWEDE ST</td>\n",
       "      <td>EMS</td>\n",
       "      <td>CARDIAC EMERGENCY</td>\n",
       "      <td>16</td>\n",
       "      <td>Kamis</td>\n",
       "      <td>12</td>\n",
       "      <td>2015</td>\n",
       "      <td>2015-12-10</td>\n",
       "      <td>-1</td>\n",
       "      <td>-1</td>\n",
       "    </tr>\n",
       "    <tr>\n",
       "      <th>5</th>\n",
       "      <td>40.253473</td>\n",
       "      <td>-75.283245</td>\n",
       "      <td>CANNON AVE &amp; W 9TH ST;  LANSDALE; Station 345;...</td>\n",
       "      <td>19446.0</td>\n",
       "      <td>EMS: HEAD INJURY</td>\n",
       "      <td>2015-12-10 15:39:04</td>\n",
       "      <td>LANSDALE</td>\n",
       "      <td>CANNON AVE &amp; W 9TH ST</td>\n",
       "      <td>EMS</td>\n",
       "      <td>HEAD INJURY</td>\n",
       "      <td>15</td>\n",
       "      <td>Kamis</td>\n",
       "      <td>12</td>\n",
       "      <td>2015</td>\n",
       "      <td>2015-12-10</td>\n",
       "      <td>-1</td>\n",
       "      <td>-1</td>\n",
       "    </tr>\n",
       "  </tbody>\n",
       "</table>\n",
       "</div>"
      ],
      "text/plain": [
       "         lat        lng                                               desc  \\\n",
       "0  40.297876 -75.581294  REINDEER CT & DEAD END;  NEW HANOVER; Station ...   \n",
       "1  40.258061 -75.264680  BRIAR PATH & WHITEMARSH LN;  HATFIELD TOWNSHIP...   \n",
       "2  40.121182 -75.351975  HAWS AVE; NORRISTOWN; 2015-12-10 @ 14:39:21-St...   \n",
       "3  40.116153 -75.343513  AIRY ST & SWEDE ST;  NORRISTOWN; Station 308A;...   \n",
       "5  40.253473 -75.283245  CANNON AVE & W 9TH ST;  LANSDALE; Station 345;...   \n",
       "\n",
       "       zip                    title           timeStamp                twp  \\\n",
       "0  19525.0   EMS: BACK PAINS/INJURY 2015-12-10 17:10:52        NEW HANOVER   \n",
       "1  19446.0  EMS: DIABETIC EMERGENCY 2015-12-10 17:29:21  HATFIELD TOWNSHIP   \n",
       "2  19401.0      Fire: GAS-ODOR/LEAK 2015-12-10 14:39:21         NORRISTOWN   \n",
       "3  19401.0   EMS: CARDIAC EMERGENCY 2015-12-10 16:47:36         NORRISTOWN   \n",
       "5  19446.0         EMS: HEAD INJURY 2015-12-10 15:39:04           LANSDALE   \n",
       "\n",
       "                         addr major_incident         sub_incident  hour  \\\n",
       "0      REINDEER CT & DEAD END            EMS    BACK PAINS/INJURY    17   \n",
       "1  BRIAR PATH & WHITEMARSH LN            EMS   DIABETIC EMERGENCY    17   \n",
       "2                    HAWS AVE           Fire        GAS-ODOR/LEAK    14   \n",
       "3          AIRY ST & SWEDE ST            EMS    CARDIAC EMERGENCY    16   \n",
       "5       CANNON AVE & W 9TH ST            EMS          HEAD INJURY    15   \n",
       "\n",
       "  dayOfWeek  month  year        date tmp_class_time_incident  \\\n",
       "0     Kamis     12  2015  2015-12-10                      -1   \n",
       "1     Kamis     12  2015  2015-12-10                      -1   \n",
       "2     Kamis     12  2015  2015-12-10                      -1   \n",
       "3     Kamis     12  2015  2015-12-10                      -1   \n",
       "5     Kamis     12  2015  2015-12-10                      -1   \n",
       "\n",
       "   flag_class_time_incident  \n",
       "0                        -1  \n",
       "1                        -1  \n",
       "2                        -1  \n",
       "3                        -1  \n",
       "5                        -1  "
      ]
     },
     "execution_count": 245,
     "metadata": {},
     "output_type": "execute_result"
    }
   ],
   "source": [
    "flag_data.head()"
   ]
  },
  {
   "cell_type": "code",
   "execution_count": 246,
   "metadata": {
    "collapsed": false
   },
   "outputs": [],
   "source": [
    "# analisis data dengan 4 time class (pagi, siang, sore, malam) to insert in dict before place in tabel clean_data\n",
    "\n",
    "flag_data.count()\n",
    "# set_label_hours = \"\"\n",
    "# tmp_label = {}\n",
    "\n",
    "index=0\n",
    "for tmp_hours in flag_data['hour']:       \n",
    "#     print tmp_hours\n",
    "    \n",
    "    #set flag_class\n",
    "    flag_data.loc[flag_data['hour']==6, 'flag_class_time_incident'] = 0\n",
    "    flag_data.loc[flag_data['hour']==7, 'flag_class_time_incident'] = 0\n",
    "    flag_data.loc[flag_data['hour']==8, 'flag_class_time_incident'] = 0\n",
    "    flag_data.loc[flag_data['hour']==9, 'flag_class_time_incident'] = 0\n",
    "    flag_data.loc[flag_data['hour']==10, 'flag_class_time_incident'] = 0\n",
    "    flag_data.loc[flag_data['hour']==11, 'flag_class_time_incident'] = 0\n",
    "    flag_data.loc[flag_data['hour']==12, 'flag_class_time_incident'] = 0\n",
    "    \n",
    "    flag_data.loc[flag_data['hour']==13, 'flag_class_time_incident'] = 1\n",
    "    flag_data.loc[flag_data['hour']==14, 'flag_class_time_incident'] = 1\n",
    "    flag_data.loc[flag_data['hour']==15, 'flag_class_time_incident'] = 1\n",
    "    flag_data.loc[flag_data['hour']==16, 'flag_class_time_incident'] = 1\n",
    "    flag_data.loc[flag_data['hour']==17, 'flag_class_time_incident'] = 1\n",
    "    flag_data.loc[flag_data['hour']==18, 'flag_class_time_incident'] = 1\n",
    "    \n",
    "    flag_data.loc[flag_data['hour']==19, 'flag_class_time_incident'] = 2\n",
    "    flag_data.loc[flag_data['hour']==20, 'flag_class_time_incident'] = 2\n",
    "    flag_data.loc[flag_data['hour']==21, 'flag_class_time_incident'] = 2\n",
    "    flag_data.loc[flag_data['hour']==22, 'flag_class_time_incident'] = 2\n",
    "    flag_data.loc[flag_data['hour']==23, 'flag_class_time_incident'] = 2\n",
    "    flag_data.loc[flag_data['hour']==24, 'flag_class_time_incident'] = 2\n",
    "    \n",
    "    flag_data.loc[flag_data['hour']==0, 'flag_class_time_incident'] = 3\n",
    "    flag_data.loc[flag_data['hour']==1, 'flag_class_time_incident'] = 3\n",
    "    flag_data.loc[flag_data['hour']==2, 'flag_class_time_incident'] = 3\n",
    "    flag_data.loc[flag_data['hour']==3, 'flag_class_time_incident'] = 3\n",
    "    flag_data.loc[flag_data['hour']==4, 'flag_class_time_incident'] = 3\n",
    "    flag_data.loc[flag_data['hour']==5, 'flag_class_time_incident'] = 3\n",
    "    \n",
    "    \n",
    "    #set tmp_name_class\n",
    "    flag_data.loc[flag_data['hour']==6, 'tmp_class_time_incident'] = 'pagi'\n",
    "    flag_data.loc[flag_data['hour']==7, 'tmp_class_time_incident'] = 'pagi'\n",
    "    flag_data.loc[flag_data['hour']==8, 'tmp_class_time_incident'] = 'pagi'\n",
    "    flag_data.loc[flag_data['hour']==9, 'tmp_class_time_incident'] = 'pagi'\n",
    "    flag_data.loc[flag_data['hour']==10, 'tmp_class_time_incident'] = 'pagi'\n",
    "    flag_data.loc[flag_data['hour']==11, 'tmp_class_time_incident'] = 'pagi'\n",
    "    flag_data.loc[flag_data['hour']==12, 'tmp_class_time_incident'] = 'pagi'\n",
    "    \n",
    "    flag_data.loc[flag_data['hour']==13, 'tmp_class_time_incident'] = 'siang'\n",
    "    flag_data.loc[flag_data['hour']==14, 'tmp_class_time_incident'] = 'siang'\n",
    "    flag_data.loc[flag_data['hour']==15, 'tmp_class_time_incident'] = 'siang'\n",
    "    flag_data.loc[flag_data['hour']==16, 'tmp_class_time_incident'] = 'siang'\n",
    "    flag_data.loc[flag_data['hour']==17, 'tmp_class_time_incident'] = 'siang'\n",
    "    flag_data.loc[flag_data['hour']==18, 'tmp_class_time_incident'] = 'siang'\n",
    "    \n",
    "    flag_data.loc[flag_data['hour']==19, 'tmp_class_time_incident'] = 'sore'\n",
    "    flag_data.loc[flag_data['hour']==20, 'tmp_class_time_incident'] = 'sore'\n",
    "    flag_data.loc[flag_data['hour']==21, 'tmp_class_time_incident'] = 'sore'\n",
    "    flag_data.loc[flag_data['hour']==22, 'tmp_class_time_incident'] = 'sore'\n",
    "    flag_data.loc[flag_data['hour']==23, 'tmp_class_time_incident'] = 'sore'\n",
    "    flag_data.loc[flag_data['hour']==24, 'tmp_class_time_incident'] = 'sore'\n",
    "    \n",
    "    flag_data.loc[flag_data['hour']==0, 'tmp_class_time_incident'] = 'malam'\n",
    "    flag_data.loc[flag_data['hour']==1, 'tmp_class_time_incident'] = 'malam'\n",
    "    flag_data.loc[flag_data['hour']==2, 'tmp_class_time_incident'] = 'malam'\n",
    "    flag_data.loc[flag_data['hour']==3, 'tmp_class_time_incident'] = 'malam'\n",
    "    flag_data.loc[flag_data['hour']==4, 'tmp_class_time_incident'] = 'malam'\n",
    "    flag_data.loc[flag_data['hour']==5, 'tmp_class_time_incident'] = 'malam'\n",
    "\n",
    "    index+=1\n",
    "    \n",
    "#     if tmp_hours>=6 and tmp_hours<12:\n",
    "# #         tmp_label[index]= 'Pagi'\n",
    "#         set_label_hours = 'Pagi'\n",
    "#         set_label_hours2 = 0\n",
    "#         flag_data['tmp_class_time_incident'][index] = str(set_label_hours)\n",
    "#         flag_data['flag_class_time_incident'][index] = int(set_label_hours2)\n",
    "# #         print set_label_hours, set_label_hours2\n",
    "\n",
    "#     elif tmp_hours>=12 and tmp_hours<18:\n",
    "# #         tmp_label[index]= 'Siang'\n",
    "#         set_label_hours = 'Siang'\n",
    "#         set_label_hours2 = 1\n",
    "#         flag_data['tmp_class_time_incident'][index] = str(set_label_hours)\n",
    "#         flag_data['flag_class_time_incident'][index] = int(set_label_hours2)\n",
    "# #         print set_label_hours, set_label_hours2\n",
    "\n",
    "#     elif tmp_hours>=18 and tmp_hours<24:\n",
    "# #         tmp_label[index]= 'Sore'\n",
    "#         set_label_hours = 'Sore'\n",
    "#         set_label_hours2 = 2\n",
    "#         flag_data['tmp_class_time_incident'][index] = str(set_label_hours)\n",
    "#         flag_data['flag_class_time_incident'][index] = int(set_label_hours2)\n",
    "# #         print set_label_hours, set_label_hours2\n",
    "\n",
    "#     elif tmp_hours==24:\n",
    "# #         tmp_label[index]= 'Malam'\n",
    "#         set_label_hours = 'Malam'\n",
    "#         set_label_hours2 = 3\n",
    "#         flag_data['tmp_class_time_incident'][index] = str(set_label_hours)\n",
    "#         flag_data['flag_class_time_incident'][index] = int(set_label_hours2)\n",
    "# #         print set_label_hours, set_label_hours2\n",
    "\n",
    "#     elif tmp_hours>=0 and tmp_hours<6:\n",
    "# #         tmp_label[index]= 'Malam'\n",
    "#         set_label_hours = 'Malam'\n",
    "#         set_label_hours2 = 3\n",
    "#         flag_data['tmp_class_time_incident'][index] = str(set_label_hours)\n",
    "#         flag_data['flag_class_time_incident'][index] = int(set_label_hours2)\n",
    "# #         print set_label_hours, set_label_hours2\n",
    "    \n",
    "# print tmp_label"
   ]
  },
  {
   "cell_type": "code",
   "execution_count": 163,
   "metadata": {
    "collapsed": false
   },
   "outputs": [],
   "source": [
    "# flag_data['tmp_class_time_incident']"
   ]
  },
  {
   "cell_type": "code",
   "execution_count": 164,
   "metadata": {
    "collapsed": false
   },
   "outputs": [],
   "source": [
    "# flag_data['flag_class_time_incident']"
   ]
  },
  {
   "cell_type": "code",
   "execution_count": 247,
   "metadata": {
    "collapsed": false
   },
   "outputs": [
    {
     "data": {
      "text/html": [
       "<div>\n",
       "<table border=\"1\" class=\"dataframe\">\n",
       "  <thead>\n",
       "    <tr style=\"text-align: right;\">\n",
       "      <th></th>\n",
       "      <th>lat</th>\n",
       "      <th>lng</th>\n",
       "      <th>desc</th>\n",
       "      <th>zip</th>\n",
       "      <th>title</th>\n",
       "      <th>timeStamp</th>\n",
       "      <th>twp</th>\n",
       "      <th>addr</th>\n",
       "      <th>major_incident</th>\n",
       "      <th>sub_incident</th>\n",
       "      <th>hour</th>\n",
       "      <th>dayOfWeek</th>\n",
       "      <th>month</th>\n",
       "      <th>year</th>\n",
       "      <th>date</th>\n",
       "      <th>tmp_class_time_incident</th>\n",
       "      <th>flag_class_time_incident</th>\n",
       "    </tr>\n",
       "  </thead>\n",
       "  <tbody>\n",
       "    <tr>\n",
       "      <th>0</th>\n",
       "      <td>40.297876</td>\n",
       "      <td>-75.581294</td>\n",
       "      <td>REINDEER CT &amp; DEAD END;  NEW HANOVER; Station ...</td>\n",
       "      <td>19525.0</td>\n",
       "      <td>EMS: BACK PAINS/INJURY</td>\n",
       "      <td>2015-12-10 17:10:52</td>\n",
       "      <td>NEW HANOVER</td>\n",
       "      <td>REINDEER CT &amp; DEAD END</td>\n",
       "      <td>EMS</td>\n",
       "      <td>BACK PAINS/INJURY</td>\n",
       "      <td>17</td>\n",
       "      <td>Kamis</td>\n",
       "      <td>12</td>\n",
       "      <td>2015</td>\n",
       "      <td>2015-12-10</td>\n",
       "      <td>siang</td>\n",
       "      <td>1</td>\n",
       "    </tr>\n",
       "    <tr>\n",
       "      <th>1</th>\n",
       "      <td>40.258061</td>\n",
       "      <td>-75.264680</td>\n",
       "      <td>BRIAR PATH &amp; WHITEMARSH LN;  HATFIELD TOWNSHIP...</td>\n",
       "      <td>19446.0</td>\n",
       "      <td>EMS: DIABETIC EMERGENCY</td>\n",
       "      <td>2015-12-10 17:29:21</td>\n",
       "      <td>HATFIELD TOWNSHIP</td>\n",
       "      <td>BRIAR PATH &amp; WHITEMARSH LN</td>\n",
       "      <td>EMS</td>\n",
       "      <td>DIABETIC EMERGENCY</td>\n",
       "      <td>17</td>\n",
       "      <td>Kamis</td>\n",
       "      <td>12</td>\n",
       "      <td>2015</td>\n",
       "      <td>2015-12-10</td>\n",
       "      <td>siang</td>\n",
       "      <td>1</td>\n",
       "    </tr>\n",
       "    <tr>\n",
       "      <th>2</th>\n",
       "      <td>40.121182</td>\n",
       "      <td>-75.351975</td>\n",
       "      <td>HAWS AVE; NORRISTOWN; 2015-12-10 @ 14:39:21-St...</td>\n",
       "      <td>19401.0</td>\n",
       "      <td>Fire: GAS-ODOR/LEAK</td>\n",
       "      <td>2015-12-10 14:39:21</td>\n",
       "      <td>NORRISTOWN</td>\n",
       "      <td>HAWS AVE</td>\n",
       "      <td>Fire</td>\n",
       "      <td>GAS-ODOR/LEAK</td>\n",
       "      <td>14</td>\n",
       "      <td>Kamis</td>\n",
       "      <td>12</td>\n",
       "      <td>2015</td>\n",
       "      <td>2015-12-10</td>\n",
       "      <td>siang</td>\n",
       "      <td>1</td>\n",
       "    </tr>\n",
       "    <tr>\n",
       "      <th>3</th>\n",
       "      <td>40.116153</td>\n",
       "      <td>-75.343513</td>\n",
       "      <td>AIRY ST &amp; SWEDE ST;  NORRISTOWN; Station 308A;...</td>\n",
       "      <td>19401.0</td>\n",
       "      <td>EMS: CARDIAC EMERGENCY</td>\n",
       "      <td>2015-12-10 16:47:36</td>\n",
       "      <td>NORRISTOWN</td>\n",
       "      <td>AIRY ST &amp; SWEDE ST</td>\n",
       "      <td>EMS</td>\n",
       "      <td>CARDIAC EMERGENCY</td>\n",
       "      <td>16</td>\n",
       "      <td>Kamis</td>\n",
       "      <td>12</td>\n",
       "      <td>2015</td>\n",
       "      <td>2015-12-10</td>\n",
       "      <td>siang</td>\n",
       "      <td>1</td>\n",
       "    </tr>\n",
       "    <tr>\n",
       "      <th>5</th>\n",
       "      <td>40.253473</td>\n",
       "      <td>-75.283245</td>\n",
       "      <td>CANNON AVE &amp; W 9TH ST;  LANSDALE; Station 345;...</td>\n",
       "      <td>19446.0</td>\n",
       "      <td>EMS: HEAD INJURY</td>\n",
       "      <td>2015-12-10 15:39:04</td>\n",
       "      <td>LANSDALE</td>\n",
       "      <td>CANNON AVE &amp; W 9TH ST</td>\n",
       "      <td>EMS</td>\n",
       "      <td>HEAD INJURY</td>\n",
       "      <td>15</td>\n",
       "      <td>Kamis</td>\n",
       "      <td>12</td>\n",
       "      <td>2015</td>\n",
       "      <td>2015-12-10</td>\n",
       "      <td>siang</td>\n",
       "      <td>1</td>\n",
       "    </tr>\n",
       "    <tr>\n",
       "      <th>6</th>\n",
       "      <td>40.182111</td>\n",
       "      <td>-75.127795</td>\n",
       "      <td>LAUREL AVE &amp; OAKDALE AVE;  HORSHAM; Station 35...</td>\n",
       "      <td>19044.0</td>\n",
       "      <td>EMS: NAUSEA/VOMITING</td>\n",
       "      <td>2015-12-10 16:46:48</td>\n",
       "      <td>HORSHAM</td>\n",
       "      <td>LAUREL AVE &amp; OAKDALE AVE</td>\n",
       "      <td>EMS</td>\n",
       "      <td>NAUSEA/VOMITING</td>\n",
       "      <td>16</td>\n",
       "      <td>Kamis</td>\n",
       "      <td>12</td>\n",
       "      <td>2015</td>\n",
       "      <td>2015-12-10</td>\n",
       "      <td>siang</td>\n",
       "      <td>1</td>\n",
       "    </tr>\n",
       "    <tr>\n",
       "      <th>7</th>\n",
       "      <td>40.217286</td>\n",
       "      <td>-75.405182</td>\n",
       "      <td>COLLEGEVILLE RD &amp; LYWISKI RD;  SKIPPACK; Stati...</td>\n",
       "      <td>19426.0</td>\n",
       "      <td>EMS: RESPIRATORY EMERGENCY</td>\n",
       "      <td>2015-12-10 16:17:05</td>\n",
       "      <td>SKIPPACK</td>\n",
       "      <td>COLLEGEVILLE RD &amp; LYWISKI RD</td>\n",
       "      <td>EMS</td>\n",
       "      <td>RESPIRATORY EMERGENCY</td>\n",
       "      <td>16</td>\n",
       "      <td>Kamis</td>\n",
       "      <td>12</td>\n",
       "      <td>2015</td>\n",
       "      <td>2015-12-10</td>\n",
       "      <td>siang</td>\n",
       "      <td>1</td>\n",
       "    </tr>\n",
       "    <tr>\n",
       "      <th>8</th>\n",
       "      <td>40.289027</td>\n",
       "      <td>-75.399590</td>\n",
       "      <td>MAIN ST &amp; OLD SUMNEYTOWN PIKE;  LOWER SALFORD;...</td>\n",
       "      <td>19438.0</td>\n",
       "      <td>EMS: SYNCOPAL EPISODE</td>\n",
       "      <td>2015-12-10 16:51:42</td>\n",
       "      <td>LOWER SALFORD</td>\n",
       "      <td>MAIN ST &amp; OLD SUMNEYTOWN PIKE</td>\n",
       "      <td>EMS</td>\n",
       "      <td>SYNCOPAL EPISODE</td>\n",
       "      <td>16</td>\n",
       "      <td>Kamis</td>\n",
       "      <td>12</td>\n",
       "      <td>2015</td>\n",
       "      <td>2015-12-10</td>\n",
       "      <td>siang</td>\n",
       "      <td>1</td>\n",
       "    </tr>\n",
       "    <tr>\n",
       "      <th>9</th>\n",
       "      <td>40.102398</td>\n",
       "      <td>-75.291458</td>\n",
       "      <td>BLUEROUTE  &amp; RAMP I476 NB TO CHEMICAL RD; PLYM...</td>\n",
       "      <td>19462.0</td>\n",
       "      <td>Traffic: VEHICLE ACCIDENT -</td>\n",
       "      <td>2015-12-10 17:35:41</td>\n",
       "      <td>PLYMOUTH</td>\n",
       "      <td>BLUEROUTE  &amp; RAMP I476 NB TO CHEMICAL RD</td>\n",
       "      <td>Traffic</td>\n",
       "      <td>VEHICLE ACCIDENT -</td>\n",
       "      <td>17</td>\n",
       "      <td>Kamis</td>\n",
       "      <td>12</td>\n",
       "      <td>2015</td>\n",
       "      <td>2015-12-10</td>\n",
       "      <td>siang</td>\n",
       "      <td>1</td>\n",
       "    </tr>\n",
       "    <tr>\n",
       "      <th>11</th>\n",
       "      <td>40.084161</td>\n",
       "      <td>-75.308386</td>\n",
       "      <td>BROOK RD &amp; COLWELL LN; PLYMOUTH; 2015-12-10 @ ...</td>\n",
       "      <td>19428.0</td>\n",
       "      <td>Traffic: VEHICLE ACCIDENT -</td>\n",
       "      <td>2015-12-10 16:32:10</td>\n",
       "      <td>PLYMOUTH</td>\n",
       "      <td>BROOK RD &amp; COLWELL LN</td>\n",
       "      <td>Traffic</td>\n",
       "      <td>VEHICLE ACCIDENT -</td>\n",
       "      <td>16</td>\n",
       "      <td>Kamis</td>\n",
       "      <td>12</td>\n",
       "      <td>2015</td>\n",
       "      <td>2015-12-10</td>\n",
       "      <td>siang</td>\n",
       "      <td>1</td>\n",
       "    </tr>\n",
       "  </tbody>\n",
       "</table>\n",
       "</div>"
      ],
      "text/plain": [
       "          lat        lng                                               desc  \\\n",
       "0   40.297876 -75.581294  REINDEER CT & DEAD END;  NEW HANOVER; Station ...   \n",
       "1   40.258061 -75.264680  BRIAR PATH & WHITEMARSH LN;  HATFIELD TOWNSHIP...   \n",
       "2   40.121182 -75.351975  HAWS AVE; NORRISTOWN; 2015-12-10 @ 14:39:21-St...   \n",
       "3   40.116153 -75.343513  AIRY ST & SWEDE ST;  NORRISTOWN; Station 308A;...   \n",
       "5   40.253473 -75.283245  CANNON AVE & W 9TH ST;  LANSDALE; Station 345;...   \n",
       "6   40.182111 -75.127795  LAUREL AVE & OAKDALE AVE;  HORSHAM; Station 35...   \n",
       "7   40.217286 -75.405182  COLLEGEVILLE RD & LYWISKI RD;  SKIPPACK; Stati...   \n",
       "8   40.289027 -75.399590  MAIN ST & OLD SUMNEYTOWN PIKE;  LOWER SALFORD;...   \n",
       "9   40.102398 -75.291458  BLUEROUTE  & RAMP I476 NB TO CHEMICAL RD; PLYM...   \n",
       "11  40.084161 -75.308386  BROOK RD & COLWELL LN; PLYMOUTH; 2015-12-10 @ ...   \n",
       "\n",
       "        zip                        title           timeStamp  \\\n",
       "0   19525.0       EMS: BACK PAINS/INJURY 2015-12-10 17:10:52   \n",
       "1   19446.0      EMS: DIABETIC EMERGENCY 2015-12-10 17:29:21   \n",
       "2   19401.0          Fire: GAS-ODOR/LEAK 2015-12-10 14:39:21   \n",
       "3   19401.0       EMS: CARDIAC EMERGENCY 2015-12-10 16:47:36   \n",
       "5   19446.0             EMS: HEAD INJURY 2015-12-10 15:39:04   \n",
       "6   19044.0         EMS: NAUSEA/VOMITING 2015-12-10 16:46:48   \n",
       "7   19426.0   EMS: RESPIRATORY EMERGENCY 2015-12-10 16:17:05   \n",
       "8   19438.0        EMS: SYNCOPAL EPISODE 2015-12-10 16:51:42   \n",
       "9   19462.0  Traffic: VEHICLE ACCIDENT - 2015-12-10 17:35:41   \n",
       "11  19428.0  Traffic: VEHICLE ACCIDENT - 2015-12-10 16:32:10   \n",
       "\n",
       "                  twp                                      addr  \\\n",
       "0         NEW HANOVER                    REINDEER CT & DEAD END   \n",
       "1   HATFIELD TOWNSHIP                BRIAR PATH & WHITEMARSH LN   \n",
       "2          NORRISTOWN                                  HAWS AVE   \n",
       "3          NORRISTOWN                        AIRY ST & SWEDE ST   \n",
       "5            LANSDALE                     CANNON AVE & W 9TH ST   \n",
       "6             HORSHAM                  LAUREL AVE & OAKDALE AVE   \n",
       "7            SKIPPACK              COLLEGEVILLE RD & LYWISKI RD   \n",
       "8       LOWER SALFORD             MAIN ST & OLD SUMNEYTOWN PIKE   \n",
       "9            PLYMOUTH  BLUEROUTE  & RAMP I476 NB TO CHEMICAL RD   \n",
       "11           PLYMOUTH                     BROOK RD & COLWELL LN   \n",
       "\n",
       "   major_incident            sub_incident  hour dayOfWeek  month  year  \\\n",
       "0             EMS       BACK PAINS/INJURY    17     Kamis     12  2015   \n",
       "1             EMS      DIABETIC EMERGENCY    17     Kamis     12  2015   \n",
       "2            Fire           GAS-ODOR/LEAK    14     Kamis     12  2015   \n",
       "3             EMS       CARDIAC EMERGENCY    16     Kamis     12  2015   \n",
       "5             EMS             HEAD INJURY    15     Kamis     12  2015   \n",
       "6             EMS         NAUSEA/VOMITING    16     Kamis     12  2015   \n",
       "7             EMS   RESPIRATORY EMERGENCY    16     Kamis     12  2015   \n",
       "8             EMS        SYNCOPAL EPISODE    16     Kamis     12  2015   \n",
       "9         Traffic      VEHICLE ACCIDENT -    17     Kamis     12  2015   \n",
       "11        Traffic      VEHICLE ACCIDENT -    16     Kamis     12  2015   \n",
       "\n",
       "          date tmp_class_time_incident  flag_class_time_incident  \n",
       "0   2015-12-10                   siang                         1  \n",
       "1   2015-12-10                   siang                         1  \n",
       "2   2015-12-10                   siang                         1  \n",
       "3   2015-12-10                   siang                         1  \n",
       "5   2015-12-10                   siang                         1  \n",
       "6   2015-12-10                   siang                         1  \n",
       "7   2015-12-10                   siang                         1  \n",
       "8   2015-12-10                   siang                         1  \n",
       "9   2015-12-10                   siang                         1  \n",
       "11  2015-12-10                   siang                         1  "
      ]
     },
     "execution_count": 247,
     "metadata": {},
     "output_type": "execute_result"
    }
   ],
   "source": [
    "# flag_data['flag_class_time_incident'] = flag_data['flag_class_time_incident'].astype(int)\n",
    "flag_data.head(10)"
   ]
  },
  {
   "cell_type": "code",
   "execution_count": 248,
   "metadata": {
    "collapsed": false
   },
   "outputs": [
    {
     "name": "stdout",
     "output_type": "stream",
     "text": [
      "Jumlah insiden di pagi hari: 182 kasus\n",
      "Jumlah insiden di siang hari: 247 kasus\n",
      "Jumlah insiden di sore hari: 128 kasus\n",
      "Jumlah insiden di malam hari: 67 kasus\n"
     ]
    }
   ],
   "source": [
    "#show incident in range time 'pagi', 'siang', 'sore', 'malam'\n",
    "counter=0\n",
    "counter_pagi=0\n",
    "counter_siang=0\n",
    "counter_sore=0\n",
    "counter_malam=0\n",
    "\n",
    "for i in flag_data['flag_class_time_incident']:\n",
    "    if i==0:\n",
    "        counter_pagi+=1\n",
    "    elif i==1:\n",
    "        counter_siang+=1\n",
    "    elif i==2:\n",
    "        counter_sore+=1\n",
    "    elif i==3:\n",
    "        counter_malam+=1\n",
    "        \n",
    "    counter+=1\n",
    "\n",
    "print \"Jumlah insiden di pagi hari:\", counter_pagi, \"kasus\"\n",
    "print \"Jumlah insiden di siang hari:\", counter_siang, \"kasus\"\n",
    "print \"Jumlah insiden di sore hari:\", counter_sore, \"kasus\"\n",
    "print \"Jumlah insiden di malam hari:\", counter_malam, \"kasus\""
   ]
  },
  {
   "cell_type": "markdown",
   "metadata": {},
   "source": [
    "# Data Train & Testing"
   ]
  },
  {
   "cell_type": "code",
   "execution_count": 250,
   "metadata": {
    "collapsed": true
   },
   "outputs": [],
   "source": [
    "from sklearn.metrics import mean_squared_error\n",
    "from sklearn.linear_model import LinearRegression\n",
    "from sklearn.cross_validation import train_test_split\n",
    "\n",
    "# split to data test and data train\n",
    "train_data2, test_data2 = train_test_split(flag_data, train_size=0.8)"
   ]
  },
  {
   "cell_type": "code",
   "execution_count": 251,
   "metadata": {
    "collapsed": false
   },
   "outputs": [
    {
     "name": "stdout",
     "output_type": "stream",
     "text": [
      "Data trainning: (499, 17)\n",
      "Data testing: (125, 17)\n"
     ]
    }
   ],
   "source": [
    "print \"Data trainning:\", train_data2.shape\n",
    "print \"Data testing:\", test_data2.shape"
   ]
  },
  {
   "cell_type": "markdown",
   "metadata": {},
   "source": [
    "# Proses Data Mining"
   ]
  },
  {
   "cell_type": "code",
   "execution_count": 279,
   "metadata": {
    "collapsed": false
   },
   "outputs": [],
   "source": [
    "# import library\n",
    "from sklearn.cluster import KMeans"
   ]
  },
  {
   "cell_type": "code",
   "execution_count": 280,
   "metadata": {
    "collapsed": false
   },
   "outputs": [],
   "source": [
    "# make new tabel (data_locat) from master tabel (clean_data) contains graphical value for clustering with kmeans\n",
    "\n",
    "# data_locat = flag_data.copy()\n",
    "data_train_locat = train_data2.copy()\n",
    "data_train_locat.reset_index().drop('index', axis=1, inplace=True)"
   ]
  },
  {
   "cell_type": "code",
   "execution_count": 281,
   "metadata": {
    "collapsed": false
   },
   "outputs": [
    {
     "data": {
      "text/html": [
       "<div>\n",
       "<table border=\"1\" class=\"dataframe\">\n",
       "  <thead>\n",
       "    <tr style=\"text-align: right;\">\n",
       "      <th></th>\n",
       "      <th>lat</th>\n",
       "      <th>lng</th>\n",
       "      <th>desc</th>\n",
       "      <th>zip</th>\n",
       "      <th>title</th>\n",
       "      <th>timeStamp</th>\n",
       "      <th>twp</th>\n",
       "      <th>addr</th>\n",
       "      <th>major_incident</th>\n",
       "      <th>sub_incident</th>\n",
       "      <th>hour</th>\n",
       "      <th>dayOfWeek</th>\n",
       "      <th>month</th>\n",
       "      <th>year</th>\n",
       "      <th>date</th>\n",
       "      <th>tmp_class_time_incident</th>\n",
       "      <th>flag_class_time_incident</th>\n",
       "    </tr>\n",
       "  </thead>\n",
       "  <tbody>\n",
       "    <tr>\n",
       "      <th>645</th>\n",
       "      <td>40.161470</td>\n",
       "      <td>-75.130159</td>\n",
       "      <td>COMMERCE AVE &amp; MARYLAND RD;  UPPER MORELAND; S...</td>\n",
       "      <td>19090.0</td>\n",
       "      <td>EMS: CARDIAC EMERGENCY</td>\n",
       "      <td>2015-12-12 13:10:11</td>\n",
       "      <td>UPPER MORELAND</td>\n",
       "      <td>COMMERCE AVE &amp; MARYLAND RD</td>\n",
       "      <td>EMS</td>\n",
       "      <td>CARDIAC EMERGENCY</td>\n",
       "      <td>13</td>\n",
       "      <td>Sabtu</td>\n",
       "      <td>12</td>\n",
       "      <td>2015</td>\n",
       "      <td>2015-12-12</td>\n",
       "      <td>siang</td>\n",
       "      <td>1</td>\n",
       "    </tr>\n",
       "    <tr>\n",
       "      <th>149</th>\n",
       "      <td>40.155827</td>\n",
       "      <td>-75.365208</td>\n",
       "      <td>GERMANTOWN PIKE &amp; BRIDLE PATH RD; EAST NORRITO...</td>\n",
       "      <td>19403.0</td>\n",
       "      <td>Traffic: VEHICLE ACCIDENT -</td>\n",
       "      <td>2015-12-11 06:17:56</td>\n",
       "      <td>EAST NORRITON</td>\n",
       "      <td>GERMANTOWN PIKE &amp; BRIDLE PATH RD</td>\n",
       "      <td>Traffic</td>\n",
       "      <td>VEHICLE ACCIDENT -</td>\n",
       "      <td>6</td>\n",
       "      <td>Jumat</td>\n",
       "      <td>12</td>\n",
       "      <td>2015</td>\n",
       "      <td>2015-12-11</td>\n",
       "      <td>pagi</td>\n",
       "      <td>0</td>\n",
       "    </tr>\n",
       "    <tr>\n",
       "      <th>313</th>\n",
       "      <td>40.105890</td>\n",
       "      <td>-75.084741</td>\n",
       "      <td>HUNTINGDON PIKE &amp; MOREDON RD;  ABINGTON; Stati...</td>\n",
       "      <td>19006.0</td>\n",
       "      <td>EMS: FALL VICTIM</td>\n",
       "      <td>2015-12-11 15:07:45</td>\n",
       "      <td>ABINGTON</td>\n",
       "      <td>HUNTINGDON PIKE &amp; MOREDON RD</td>\n",
       "      <td>EMS</td>\n",
       "      <td>FALL VICTIM</td>\n",
       "      <td>15</td>\n",
       "      <td>Jumat</td>\n",
       "      <td>12</td>\n",
       "      <td>2015</td>\n",
       "      <td>2015-12-11</td>\n",
       "      <td>siang</td>\n",
       "      <td>1</td>\n",
       "    </tr>\n",
       "    <tr>\n",
       "      <th>200</th>\n",
       "      <td>40.182374</td>\n",
       "      <td>-75.104914</td>\n",
       "      <td>YORK RD &amp; VILLAGE PL;  HATBORO; Station 384; 2...</td>\n",
       "      <td>19040.0</td>\n",
       "      <td>EMS: SYNCOPAL EPISODE</td>\n",
       "      <td>2015-12-11 09:38:57</td>\n",
       "      <td>HATBORO</td>\n",
       "      <td>YORK RD &amp; VILLAGE PL</td>\n",
       "      <td>EMS</td>\n",
       "      <td>SYNCOPAL EPISODE</td>\n",
       "      <td>9</td>\n",
       "      <td>Jumat</td>\n",
       "      <td>12</td>\n",
       "      <td>2015</td>\n",
       "      <td>2015-12-11</td>\n",
       "      <td>pagi</td>\n",
       "      <td>0</td>\n",
       "    </tr>\n",
       "    <tr>\n",
       "      <th>603</th>\n",
       "      <td>40.008412</td>\n",
       "      <td>-75.289491</td>\n",
       "      <td>ST GEORGES RD &amp; COULTER AVE; LOWER MERION; 201...</td>\n",
       "      <td>19003.0</td>\n",
       "      <td>Traffic: VEHICLE ACCIDENT -</td>\n",
       "      <td>2015-12-12 10:44:16</td>\n",
       "      <td>LOWER MERION</td>\n",
       "      <td>ST GEORGES RD &amp; COULTER AVE</td>\n",
       "      <td>Traffic</td>\n",
       "      <td>VEHICLE ACCIDENT -</td>\n",
       "      <td>10</td>\n",
       "      <td>Sabtu</td>\n",
       "      <td>12</td>\n",
       "      <td>2015</td>\n",
       "      <td>2015-12-12</td>\n",
       "      <td>pagi</td>\n",
       "      <td>0</td>\n",
       "    </tr>\n",
       "  </tbody>\n",
       "</table>\n",
       "</div>"
      ],
      "text/plain": [
       "           lat        lng                                               desc  \\\n",
       "645  40.161470 -75.130159  COMMERCE AVE & MARYLAND RD;  UPPER MORELAND; S...   \n",
       "149  40.155827 -75.365208  GERMANTOWN PIKE & BRIDLE PATH RD; EAST NORRITO...   \n",
       "313  40.105890 -75.084741  HUNTINGDON PIKE & MOREDON RD;  ABINGTON; Stati...   \n",
       "200  40.182374 -75.104914  YORK RD & VILLAGE PL;  HATBORO; Station 384; 2...   \n",
       "603  40.008412 -75.289491  ST GEORGES RD & COULTER AVE; LOWER MERION; 201...   \n",
       "\n",
       "         zip                        title           timeStamp             twp  \\\n",
       "645  19090.0       EMS: CARDIAC EMERGENCY 2015-12-12 13:10:11  UPPER MORELAND   \n",
       "149  19403.0  Traffic: VEHICLE ACCIDENT - 2015-12-11 06:17:56   EAST NORRITON   \n",
       "313  19006.0             EMS: FALL VICTIM 2015-12-11 15:07:45        ABINGTON   \n",
       "200  19040.0        EMS: SYNCOPAL EPISODE 2015-12-11 09:38:57         HATBORO   \n",
       "603  19003.0  Traffic: VEHICLE ACCIDENT - 2015-12-12 10:44:16    LOWER MERION   \n",
       "\n",
       "                                 addr major_incident         sub_incident  \\\n",
       "645        COMMERCE AVE & MARYLAND RD            EMS    CARDIAC EMERGENCY   \n",
       "149  GERMANTOWN PIKE & BRIDLE PATH RD        Traffic   VEHICLE ACCIDENT -   \n",
       "313      HUNTINGDON PIKE & MOREDON RD            EMS          FALL VICTIM   \n",
       "200              YORK RD & VILLAGE PL            EMS     SYNCOPAL EPISODE   \n",
       "603       ST GEORGES RD & COULTER AVE        Traffic   VEHICLE ACCIDENT -   \n",
       "\n",
       "     hour dayOfWeek  month  year        date tmp_class_time_incident  \\\n",
       "645    13     Sabtu     12  2015  2015-12-12                   siang   \n",
       "149     6     Jumat     12  2015  2015-12-11                    pagi   \n",
       "313    15     Jumat     12  2015  2015-12-11                   siang   \n",
       "200     9     Jumat     12  2015  2015-12-11                    pagi   \n",
       "603    10     Sabtu     12  2015  2015-12-12                    pagi   \n",
       "\n",
       "     flag_class_time_incident  \n",
       "645                         1  \n",
       "149                         0  \n",
       "313                         1  \n",
       "200                         0  \n",
       "603                         0  "
      ]
     },
     "execution_count": 281,
     "metadata": {},
     "output_type": "execute_result"
    }
   ],
   "source": [
    "data_train_locat.head()"
   ]
  },
  {
   "cell_type": "code",
   "execution_count": 282,
   "metadata": {
    "collapsed": false
   },
   "outputs": [
    {
     "data": {
      "text/plain": [
       "<seaborn.axisgrid.JointGrid at 0x1560bd68>"
      ]
     },
     "execution_count": 282,
     "metadata": {},
     "output_type": "execute_result"
    },
    {
     "data": {
      "image/png": "[encoded data removed]",
      "text/plain": [
       "<matplotlib.figure.Figure at 0x1560bc18>"
      ]
     },
     "metadata": {},
     "output_type": "display_data"
    }
   ],
   "source": [
    "# show sebaran lokasi calls dari dataset 911\n",
    "sns.jointplot(data=data_train_locat, x='lng', y='lat', kind='scatter')"
   ]
  },
  {
   "cell_type": "code",
   "execution_count": 283,
   "metadata": {
    "collapsed": false
   },
   "outputs": [
    {
     "name": "stdout",
     "output_type": "stream",
     "text": [
      "rata-rata longitude: -75.3151834437\n",
      "rat-rata latitude: 40.1594998259\n"
     ]
    }
   ],
   "source": [
    "# inisiasi value untuk clustering berdasarkan latitude dan longitude\n",
    "x_mean = data_train_locat['lng'].mean()\n",
    "y_mean = data_train_locat['lat'].mean()\n",
    "\n",
    "print \"rata-rata longitude:\", x_mean\n",
    "print \"rat-rata latitude:\", y_mean\n",
    "\n",
    "data_train_locat['x_axis'] = data_train_locat['lng'].map(lambda v:v-x_mean)\n",
    "data_train_locat['y_axis'] = data_train_locat['lat'].map(lambda v:v-y_mean)"
   ]
  },
  {
   "cell_type": "code",
   "execution_count": 284,
   "metadata": {
    "collapsed": false
   },
   "outputs": [
    {
     "data": {
      "text/html": [
       "<div>\n",
       "<table border=\"1\" class=\"dataframe\">\n",
       "  <thead>\n",
       "    <tr style=\"text-align: right;\">\n",
       "      <th></th>\n",
       "      <th>lat</th>\n",
       "      <th>lng</th>\n",
       "      <th>desc</th>\n",
       "      <th>zip</th>\n",
       "      <th>title</th>\n",
       "      <th>timeStamp</th>\n",
       "      <th>twp</th>\n",
       "      <th>addr</th>\n",
       "      <th>major_incident</th>\n",
       "      <th>sub_incident</th>\n",
       "      <th>hour</th>\n",
       "      <th>dayOfWeek</th>\n",
       "      <th>month</th>\n",
       "      <th>year</th>\n",
       "      <th>date</th>\n",
       "      <th>tmp_class_time_incident</th>\n",
       "      <th>flag_class_time_incident</th>\n",
       "      <th>x_axis</th>\n",
       "      <th>y_axis</th>\n",
       "    </tr>\n",
       "  </thead>\n",
       "  <tbody>\n",
       "    <tr>\n",
       "      <th>645</th>\n",
       "      <td>40.161470</td>\n",
       "      <td>-75.130159</td>\n",
       "      <td>COMMERCE AVE &amp; MARYLAND RD;  UPPER MORELAND; S...</td>\n",
       "      <td>19090.0</td>\n",
       "      <td>EMS: CARDIAC EMERGENCY</td>\n",
       "      <td>2015-12-12 13:10:11</td>\n",
       "      <td>UPPER MORELAND</td>\n",
       "      <td>COMMERCE AVE &amp; MARYLAND RD</td>\n",
       "      <td>EMS</td>\n",
       "      <td>CARDIAC EMERGENCY</td>\n",
       "      <td>13</td>\n",
       "      <td>Sabtu</td>\n",
       "      <td>12</td>\n",
       "      <td>2015</td>\n",
       "      <td>2015-12-12</td>\n",
       "      <td>siang</td>\n",
       "      <td>1</td>\n",
       "      <td>0.185025</td>\n",
       "      <td>0.001970</td>\n",
       "    </tr>\n",
       "    <tr>\n",
       "      <th>149</th>\n",
       "      <td>40.155827</td>\n",
       "      <td>-75.365208</td>\n",
       "      <td>GERMANTOWN PIKE &amp; BRIDLE PATH RD; EAST NORRITO...</td>\n",
       "      <td>19403.0</td>\n",
       "      <td>Traffic: VEHICLE ACCIDENT -</td>\n",
       "      <td>2015-12-11 06:17:56</td>\n",
       "      <td>EAST NORRITON</td>\n",
       "      <td>GERMANTOWN PIKE &amp; BRIDLE PATH RD</td>\n",
       "      <td>Traffic</td>\n",
       "      <td>VEHICLE ACCIDENT -</td>\n",
       "      <td>6</td>\n",
       "      <td>Jumat</td>\n",
       "      <td>12</td>\n",
       "      <td>2015</td>\n",
       "      <td>2015-12-11</td>\n",
       "      <td>pagi</td>\n",
       "      <td>0</td>\n",
       "      <td>-0.050025</td>\n",
       "      <td>-0.003673</td>\n",
       "    </tr>\n",
       "    <tr>\n",
       "      <th>313</th>\n",
       "      <td>40.105890</td>\n",
       "      <td>-75.084741</td>\n",
       "      <td>HUNTINGDON PIKE &amp; MOREDON RD;  ABINGTON; Stati...</td>\n",
       "      <td>19006.0</td>\n",
       "      <td>EMS: FALL VICTIM</td>\n",
       "      <td>2015-12-11 15:07:45</td>\n",
       "      <td>ABINGTON</td>\n",
       "      <td>HUNTINGDON PIKE &amp; MOREDON RD</td>\n",
       "      <td>EMS</td>\n",
       "      <td>FALL VICTIM</td>\n",
       "      <td>15</td>\n",
       "      <td>Jumat</td>\n",
       "      <td>12</td>\n",
       "      <td>2015</td>\n",
       "      <td>2015-12-11</td>\n",
       "      <td>siang</td>\n",
       "      <td>1</td>\n",
       "      <td>0.230443</td>\n",
       "      <td>-0.053610</td>\n",
       "    </tr>\n",
       "    <tr>\n",
       "      <th>200</th>\n",
       "      <td>40.182374</td>\n",
       "      <td>-75.104914</td>\n",
       "      <td>YORK RD &amp; VILLAGE PL;  HATBORO; Station 384; 2...</td>\n",
       "      <td>19040.0</td>\n",
       "      <td>EMS: SYNCOPAL EPISODE</td>\n",
       "      <td>2015-12-11 09:38:57</td>\n",
       "      <td>HATBORO</td>\n",
       "      <td>YORK RD &amp; VILLAGE PL</td>\n",
       "      <td>EMS</td>\n",
       "      <td>SYNCOPAL EPISODE</td>\n",
       "      <td>9</td>\n",
       "      <td>Jumat</td>\n",
       "      <td>12</td>\n",
       "      <td>2015</td>\n",
       "      <td>2015-12-11</td>\n",
       "      <td>pagi</td>\n",
       "      <td>0</td>\n",
       "      <td>0.210270</td>\n",
       "      <td>0.022874</td>\n",
       "    </tr>\n",
       "    <tr>\n",
       "      <th>603</th>\n",
       "      <td>40.008412</td>\n",
       "      <td>-75.289491</td>\n",
       "      <td>ST GEORGES RD &amp; COULTER AVE; LOWER MERION; 201...</td>\n",
       "      <td>19003.0</td>\n",
       "      <td>Traffic: VEHICLE ACCIDENT -</td>\n",
       "      <td>2015-12-12 10:44:16</td>\n",
       "      <td>LOWER MERION</td>\n",
       "      <td>ST GEORGES RD &amp; COULTER AVE</td>\n",
       "      <td>Traffic</td>\n",
       "      <td>VEHICLE ACCIDENT -</td>\n",
       "      <td>10</td>\n",
       "      <td>Sabtu</td>\n",
       "      <td>12</td>\n",
       "      <td>2015</td>\n",
       "      <td>2015-12-12</td>\n",
       "      <td>pagi</td>\n",
       "      <td>0</td>\n",
       "      <td>0.025692</td>\n",
       "      <td>-0.151088</td>\n",
       "    </tr>\n",
       "  </tbody>\n",
       "</table>\n",
       "</div>"
      ],
      "text/plain": [
       "           lat        lng                                               desc  \\\n",
       "645  40.161470 -75.130159  COMMERCE AVE & MARYLAND RD;  UPPER MORELAND; S...   \n",
       "149  40.155827 -75.365208  GERMANTOWN PIKE & BRIDLE PATH RD; EAST NORRITO...   \n",
       "313  40.105890 -75.084741  HUNTINGDON PIKE & MOREDON RD;  ABINGTON; Stati...   \n",
       "200  40.182374 -75.104914  YORK RD & VILLAGE PL;  HATBORO; Station 384; 2...   \n",
       "603  40.008412 -75.289491  ST GEORGES RD & COULTER AVE; LOWER MERION; 201...   \n",
       "\n",
       "         zip                        title           timeStamp             twp  \\\n",
       "645  19090.0       EMS: CARDIAC EMERGENCY 2015-12-12 13:10:11  UPPER MORELAND   \n",
       "149  19403.0  Traffic: VEHICLE ACCIDENT - 2015-12-11 06:17:56   EAST NORRITON   \n",
       "313  19006.0             EMS: FALL VICTIM 2015-12-11 15:07:45        ABINGTON   \n",
       "200  19040.0        EMS: SYNCOPAL EPISODE 2015-12-11 09:38:57         HATBORO   \n",
       "603  19003.0  Traffic: VEHICLE ACCIDENT - 2015-12-12 10:44:16    LOWER MERION   \n",
       "\n",
       "                                 addr major_incident         sub_incident  \\\n",
       "645        COMMERCE AVE & MARYLAND RD            EMS    CARDIAC EMERGENCY   \n",
       "149  GERMANTOWN PIKE & BRIDLE PATH RD        Traffic   VEHICLE ACCIDENT -   \n",
       "313      HUNTINGDON PIKE & MOREDON RD            EMS          FALL VICTIM   \n",
       "200              YORK RD & VILLAGE PL            EMS     SYNCOPAL EPISODE   \n",
       "603       ST GEORGES RD & COULTER AVE        Traffic   VEHICLE ACCIDENT -   \n",
       "\n",
       "     hour dayOfWeek  month  year        date tmp_class_time_incident  \\\n",
       "645    13     Sabtu     12  2015  2015-12-12                   siang   \n",
       "149     6     Jumat     12  2015  2015-12-11                    pagi   \n",
       "313    15     Jumat     12  2015  2015-12-11                   siang   \n",
       "200     9     Jumat     12  2015  2015-12-11                    pagi   \n",
       "603    10     Sabtu     12  2015  2015-12-12                    pagi   \n",
       "\n",
       "     flag_class_time_incident    x_axis    y_axis  \n",
       "645                         1  0.185025  0.001970  \n",
       "149                         0 -0.050025 -0.003673  \n",
       "313                         1  0.230443 -0.053610  \n",
       "200                         0  0.210270  0.022874  \n",
       "603                         0  0.025692 -0.151088  "
      ]
     },
     "execution_count": 284,
     "metadata": {},
     "output_type": "execute_result"
    }
   ],
   "source": [
    "data_train_locat.head()"
   ]
  },
  {
   "cell_type": "code",
   "execution_count": 285,
   "metadata": {
    "collapsed": false
   },
   "outputs": [],
   "source": [
    "X = data_train_locat[['x_axis','y_axis']].reset_index().drop('index',axis=1)"
   ]
  },
  {
   "cell_type": "code",
   "execution_count": 286,
   "metadata": {
    "collapsed": true
   },
   "outputs": [],
   "source": [
    "# (CLUSTER) try with default n cluster=10\n",
    "# case: get cluster based from latitude and longitude coordinate place\n",
    "cluster_kmeans = KMeans(n_clusters=6)"
   ]
  },
  {
   "cell_type": "code",
   "execution_count": 287,
   "metadata": {
    "collapsed": false
   },
   "outputs": [
    {
     "data": {
      "text/plain": [
       "KMeans(copy_x=True, init='k-means++', max_iter=300, n_clusters=6, n_init=10,\n",
       "    n_jobs=1, precompute_distances='auto', random_state=None, tol=0.0001,\n",
       "    verbose=0)"
      ]
     },
     "execution_count": 287,
     "metadata": {},
     "output_type": "execute_result"
    }
   ],
   "source": [
    "# show properties from kmeans clustering\n",
    "cluster_kmeans.fit(X)"
   ]
  },
  {
   "cell_type": "code",
   "execution_count": 288,
   "metadata": {
    "collapsed": false
   },
   "outputs": [
    {
     "data": {
      "text/plain": [
       "<matplotlib.text.Text at 0x15e51828>"
      ]
     },
     "execution_count": 288,
     "metadata": {},
     "output_type": "execute_result"
    },
    {
     "data": {
      "image/png": "[encoded data removed]",
      "text/plain": [
       "<matplotlib.figure.Figure at 0x159e6be0>"
      ]
     },
     "metadata": {},
     "output_type": "display_data"
    }
   ],
   "source": [
    "fig = plt.figure(figsize=(7,7))\n",
    "plt.scatter(X['x_axis'], X['y_axis'], c=cluster_kmeans.labels_, cmap='rainbow')\n",
    "plt.title(\"Clustering Data Train: 6 Cluster\")\n",
    "# plt.xlim(-0.3,0.3)"
   ]
  },
  {
   "cell_type": "code",
   "execution_count": 289,
   "metadata": {
    "collapsed": false
   },
   "outputs": [
    {
     "data": {
      "text/plain": [
       "array([0, 2, 0, 0, 5, 0, 0, 5, 5, 0, 3, 1, 0, 2, 5, 3, 5, 5, 0, 3, 2, 1, 4,\n",
       "       1, 0, 2, 3, 0, 2, 0, 2, 5, 0, 3, 0, 2, 3, 2, 5, 4, 2, 2, 0, 0, 1, 1,\n",
       "       4, 3, 1, 4, 5, 1, 0, 3, 1, 0, 1, 2, 2, 4, 0, 1, 0, 5, 3, 2, 3, 5, 3,\n",
       "       1, 0, 2, 3, 3, 3, 5, 2, 2, 2, 0, 2, 0, 5, 2, 0, 3, 3, 0, 0, 0, 2, 3,\n",
       "       1, 3, 0, 3, 3, 2, 0, 0, 3, 2, 5, 1, 5, 3, 0, 4, 3, 3, 0, 1, 0, 0, 1,\n",
       "       0, 3, 1, 5, 0, 3, 0, 0, 4, 0, 5, 1, 5, 5, 2, 0, 5, 0, 0, 2, 2, 0, 2,\n",
       "       0, 3, 4, 2, 1, 4, 5, 5, 0, 5, 4, 4, 4, 2, 1, 5, 2, 2, 3, 2, 4, 5, 0,\n",
       "       2, 1, 0, 0, 1, 5, 0, 2, 3, 1, 0, 2, 2, 0, 2, 0, 0, 2, 0, 4, 2, 2, 2,\n",
       "       0, 5, 5, 3, 0, 1, 3, 0, 2, 4, 0, 2, 2, 0, 0, 3, 0, 2, 3, 2, 5, 2, 1,\n",
       "       2, 2, 2, 5, 5, 4, 5, 5, 2, 3, 2, 1, 3, 5, 1, 2, 3, 2, 5, 0, 4, 5, 4,\n",
       "       2, 0, 3, 5, 1, 0, 2, 0, 2, 3, 5, 3, 3, 0, 1, 0, 5, 2, 1, 5, 0, 3, 3,\n",
       "       3, 5, 5, 1, 2, 0, 5, 0, 3, 0, 2, 0, 2, 0, 0, 5, 0, 1, 4, 3, 2, 4, 0,\n",
       "       0, 2, 2, 5, 0, 5, 0, 1, 2, 5, 0, 0, 5, 4, 2, 4, 3, 5, 2, 4, 2, 0, 3,\n",
       "       0, 3, 4, 3, 5, 2, 0, 0, 2, 2, 2, 5, 0, 5, 2, 0, 1, 2, 5, 0, 3, 0, 4,\n",
       "       0, 5, 0, 5, 1, 3, 0, 2, 0, 4, 5, 5, 0, 4, 0, 4, 0, 2, 2, 0, 2, 3, 3,\n",
       "       3, 5, 0, 0, 2, 2, 0, 0, 4, 0, 4, 3, 1, 2, 0, 5, 4, 4, 4, 4, 5, 2, 3,\n",
       "       0, 1, 0, 2, 1, 0, 0, 5, 4, 2, 5, 0, 4, 1, 2, 0, 2, 1, 0, 0, 0, 5, 0,\n",
       "       2, 4, 3, 5, 2, 3, 4, 0, 0, 3, 1, 2, 2, 1, 0, 1, 3, 2, 3, 3, 1, 5, 0,\n",
       "       5, 0, 1, 1, 5, 4, 5, 5, 2, 4, 2, 2, 0, 1, 0, 0, 3, 1, 0, 0, 4, 2, 0,\n",
       "       3, 5, 3, 3, 5, 0, 2, 0, 0, 3, 5, 2, 1, 2, 5, 0, 0, 0, 0, 1, 2, 2, 3,\n",
       "       3, 4, 5, 2, 5, 3, 3, 5, 0, 3, 1, 3, 0, 3, 2, 0, 0, 2, 3, 4, 1, 3, 3,\n",
       "       5, 3, 3, 1, 2, 4, 5, 5, 5, 5, 1, 3, 1, 1, 5, 5])"
      ]
     },
     "execution_count": 289,
     "metadata": {},
     "output_type": "execute_result"
    }
   ],
   "source": [
    "cluster_kmeans.labels_"
   ]
  },
  {
   "cell_type": "code",
   "execution_count": 290,
   "metadata": {
    "collapsed": false
   },
   "outputs": [
    {
     "data": {
      "image/png": "[encoded data removed]",
      "text/plain": [
       "<matplotlib.figure.Figure at 0xd90cbe0>"
      ]
     },
     "metadata": {},
     "output_type": "display_data"
    }
   ],
   "source": [
    "# try with other n cluster (custom)\n",
    "\n",
    "fig = plt.figure(figsize=(12,12))\n",
    "for i in range(3, 12):\n",
    "    cluster_kmeans_custom = KMeans(n_clusters=i)\n",
    "    cluster_kmeans_custom.fit(X)\n",
    "    fig.add_subplot(3,3,i-2)\n",
    "    \n",
    "    plt.scatter(X['x_axis'],X['y_axis'], c=cluster_kmeans_custom.labels_, cmap='rainbow')\n",
    "    plt.title(\"Percobaan Cluster = {}\".format(i))\n",
    "#     plt.xlim(-0.3,0.3)"
   ]
  },
  {
   "cell_type": "code",
   "execution_count": 291,
   "metadata": {
    "collapsed": false
   },
   "outputs": [],
   "source": [
    "data_tmp_train_locat = data_train_locat.copy()"
   ]
  },
  {
   "cell_type": "code",
   "execution_count": 292,
   "metadata": {
    "collapsed": false
   },
   "outputs": [
    {
     "data": {
      "text/html": [
       "<div>\n",
       "<table border=\"1\" class=\"dataframe\">\n",
       "  <thead>\n",
       "    <tr style=\"text-align: right;\">\n",
       "      <th></th>\n",
       "      <th>lat</th>\n",
       "      <th>lng</th>\n",
       "      <th>desc</th>\n",
       "      <th>zip</th>\n",
       "      <th>title</th>\n",
       "      <th>timeStamp</th>\n",
       "      <th>twp</th>\n",
       "      <th>addr</th>\n",
       "      <th>major_incident</th>\n",
       "      <th>sub_incident</th>\n",
       "      <th>hour</th>\n",
       "      <th>dayOfWeek</th>\n",
       "      <th>month</th>\n",
       "      <th>year</th>\n",
       "      <th>date</th>\n",
       "      <th>tmp_class_time_incident</th>\n",
       "      <th>flag_class_time_incident</th>\n",
       "      <th>x_axis</th>\n",
       "      <th>y_axis</th>\n",
       "    </tr>\n",
       "  </thead>\n",
       "  <tbody>\n",
       "    <tr>\n",
       "      <th>645</th>\n",
       "      <td>40.161470</td>\n",
       "      <td>-75.130159</td>\n",
       "      <td>COMMERCE AVE &amp; MARYLAND RD;  UPPER MORELAND; S...</td>\n",
       "      <td>19090.0</td>\n",
       "      <td>EMS: CARDIAC EMERGENCY</td>\n",
       "      <td>2015-12-12 13:10:11</td>\n",
       "      <td>UPPER MORELAND</td>\n",
       "      <td>COMMERCE AVE &amp; MARYLAND RD</td>\n",
       "      <td>EMS</td>\n",
       "      <td>CARDIAC EMERGENCY</td>\n",
       "      <td>13</td>\n",
       "      <td>Sabtu</td>\n",
       "      <td>12</td>\n",
       "      <td>2015</td>\n",
       "      <td>2015-12-12</td>\n",
       "      <td>siang</td>\n",
       "      <td>1</td>\n",
       "      <td>0.185025</td>\n",
       "      <td>0.001970</td>\n",
       "    </tr>\n",
       "    <tr>\n",
       "      <th>149</th>\n",
       "      <td>40.155827</td>\n",
       "      <td>-75.365208</td>\n",
       "      <td>GERMANTOWN PIKE &amp; BRIDLE PATH RD; EAST NORRITO...</td>\n",
       "      <td>19403.0</td>\n",
       "      <td>Traffic: VEHICLE ACCIDENT -</td>\n",
       "      <td>2015-12-11 06:17:56</td>\n",
       "      <td>EAST NORRITON</td>\n",
       "      <td>GERMANTOWN PIKE &amp; BRIDLE PATH RD</td>\n",
       "      <td>Traffic</td>\n",
       "      <td>VEHICLE ACCIDENT -</td>\n",
       "      <td>6</td>\n",
       "      <td>Jumat</td>\n",
       "      <td>12</td>\n",
       "      <td>2015</td>\n",
       "      <td>2015-12-11</td>\n",
       "      <td>pagi</td>\n",
       "      <td>0</td>\n",
       "      <td>-0.050025</td>\n",
       "      <td>-0.003673</td>\n",
       "    </tr>\n",
       "  </tbody>\n",
       "</table>\n",
       "</div>"
      ],
      "text/plain": [
       "           lat        lng                                               desc  \\\n",
       "645  40.161470 -75.130159  COMMERCE AVE & MARYLAND RD;  UPPER MORELAND; S...   \n",
       "149  40.155827 -75.365208  GERMANTOWN PIKE & BRIDLE PATH RD; EAST NORRITO...   \n",
       "\n",
       "         zip                        title           timeStamp             twp  \\\n",
       "645  19090.0       EMS: CARDIAC EMERGENCY 2015-12-12 13:10:11  UPPER MORELAND   \n",
       "149  19403.0  Traffic: VEHICLE ACCIDENT - 2015-12-11 06:17:56   EAST NORRITON   \n",
       "\n",
       "                                 addr major_incident         sub_incident  \\\n",
       "645        COMMERCE AVE & MARYLAND RD            EMS    CARDIAC EMERGENCY   \n",
       "149  GERMANTOWN PIKE & BRIDLE PATH RD        Traffic   VEHICLE ACCIDENT -   \n",
       "\n",
       "     hour dayOfWeek  month  year        date tmp_class_time_incident  \\\n",
       "645    13     Sabtu     12  2015  2015-12-12                   siang   \n",
       "149     6     Jumat     12  2015  2015-12-11                    pagi   \n",
       "\n",
       "     flag_class_time_incident    x_axis    y_axis  \n",
       "645                         1  0.185025  0.001970  \n",
       "149                         0 -0.050025 -0.003673  "
      ]
     },
     "execution_count": 292,
     "metadata": {},
     "output_type": "execute_result"
    }
   ],
   "source": [
    "data_tmp_train_locat.head(2)"
   ]
  },
  {
   "cell_type": "code",
   "execution_count": 293,
   "metadata": {
    "collapsed": false
   },
   "outputs": [],
   "source": [
    "# data_unique = data_tmp_train_locat['flag_class_time_incident'].nunique()\n",
    "# print \"Terdapat\", data_unique, \"data class yang berbeda dari hasil analisa waktu insiden\""
   ]
  },
  {
   "cell_type": "code",
   "execution_count": 294,
   "metadata": {
    "collapsed": true
   },
   "outputs": [],
   "source": [
    "data_train_cluster = pd.concat([data_tmp_train_locat.reset_index().drop('index', axis=1), pd.DataFrame(cluster_kmeans.labels_, columns=['cluster_loc'])], axis=1)"
   ]
  },
  {
   "cell_type": "code",
   "execution_count": 295,
   "metadata": {
    "collapsed": false
   },
   "outputs": [],
   "source": [
    "data_train_cluster.drop(['desc'], axis=1, inplace=True)"
   ]
  },
  {
   "cell_type": "code",
   "execution_count": 296,
   "metadata": {
    "collapsed": false
   },
   "outputs": [
    {
     "data": {
      "text/html": [
       "<div>\n",
       "<table border=\"1\" class=\"dataframe\">\n",
       "  <thead>\n",
       "    <tr style=\"text-align: right;\">\n",
       "      <th></th>\n",
       "      <th>lat</th>\n",
       "      <th>lng</th>\n",
       "      <th>zip</th>\n",
       "      <th>title</th>\n",
       "      <th>timeStamp</th>\n",
       "      <th>twp</th>\n",
       "      <th>addr</th>\n",
       "      <th>major_incident</th>\n",
       "      <th>sub_incident</th>\n",
       "      <th>hour</th>\n",
       "      <th>dayOfWeek</th>\n",
       "      <th>month</th>\n",
       "      <th>year</th>\n",
       "      <th>date</th>\n",
       "      <th>tmp_class_time_incident</th>\n",
       "      <th>flag_class_time_incident</th>\n",
       "      <th>x_axis</th>\n",
       "      <th>y_axis</th>\n",
       "      <th>cluster_loc</th>\n",
       "    </tr>\n",
       "  </thead>\n",
       "  <tbody>\n",
       "    <tr>\n",
       "      <th>0</th>\n",
       "      <td>40.161470</td>\n",
       "      <td>-75.130159</td>\n",
       "      <td>19090.0</td>\n",
       "      <td>EMS: CARDIAC EMERGENCY</td>\n",
       "      <td>2015-12-12 13:10:11</td>\n",
       "      <td>UPPER MORELAND</td>\n",
       "      <td>COMMERCE AVE &amp; MARYLAND RD</td>\n",
       "      <td>EMS</td>\n",
       "      <td>CARDIAC EMERGENCY</td>\n",
       "      <td>13</td>\n",
       "      <td>Sabtu</td>\n",
       "      <td>12</td>\n",
       "      <td>2015</td>\n",
       "      <td>2015-12-12</td>\n",
       "      <td>siang</td>\n",
       "      <td>1</td>\n",
       "      <td>0.185025</td>\n",
       "      <td>0.001970</td>\n",
       "      <td>0</td>\n",
       "    </tr>\n",
       "    <tr>\n",
       "      <th>1</th>\n",
       "      <td>40.155827</td>\n",
       "      <td>-75.365208</td>\n",
       "      <td>19403.0</td>\n",
       "      <td>Traffic: VEHICLE ACCIDENT -</td>\n",
       "      <td>2015-12-11 06:17:56</td>\n",
       "      <td>EAST NORRITON</td>\n",
       "      <td>GERMANTOWN PIKE &amp; BRIDLE PATH RD</td>\n",
       "      <td>Traffic</td>\n",
       "      <td>VEHICLE ACCIDENT -</td>\n",
       "      <td>6</td>\n",
       "      <td>Jumat</td>\n",
       "      <td>12</td>\n",
       "      <td>2015</td>\n",
       "      <td>2015-12-11</td>\n",
       "      <td>pagi</td>\n",
       "      <td>0</td>\n",
       "      <td>-0.050025</td>\n",
       "      <td>-0.003673</td>\n",
       "      <td>2</td>\n",
       "    </tr>\n",
       "    <tr>\n",
       "      <th>2</th>\n",
       "      <td>40.105890</td>\n",
       "      <td>-75.084741</td>\n",
       "      <td>19006.0</td>\n",
       "      <td>EMS: FALL VICTIM</td>\n",
       "      <td>2015-12-11 15:07:45</td>\n",
       "      <td>ABINGTON</td>\n",
       "      <td>HUNTINGDON PIKE &amp; MOREDON RD</td>\n",
       "      <td>EMS</td>\n",
       "      <td>FALL VICTIM</td>\n",
       "      <td>15</td>\n",
       "      <td>Jumat</td>\n",
       "      <td>12</td>\n",
       "      <td>2015</td>\n",
       "      <td>2015-12-11</td>\n",
       "      <td>siang</td>\n",
       "      <td>1</td>\n",
       "      <td>0.230443</td>\n",
       "      <td>-0.053610</td>\n",
       "      <td>0</td>\n",
       "    </tr>\n",
       "    <tr>\n",
       "      <th>3</th>\n",
       "      <td>40.182374</td>\n",
       "      <td>-75.104914</td>\n",
       "      <td>19040.0</td>\n",
       "      <td>EMS: SYNCOPAL EPISODE</td>\n",
       "      <td>2015-12-11 09:38:57</td>\n",
       "      <td>HATBORO</td>\n",
       "      <td>YORK RD &amp; VILLAGE PL</td>\n",
       "      <td>EMS</td>\n",
       "      <td>SYNCOPAL EPISODE</td>\n",
       "      <td>9</td>\n",
       "      <td>Jumat</td>\n",
       "      <td>12</td>\n",
       "      <td>2015</td>\n",
       "      <td>2015-12-11</td>\n",
       "      <td>pagi</td>\n",
       "      <td>0</td>\n",
       "      <td>0.210270</td>\n",
       "      <td>0.022874</td>\n",
       "      <td>0</td>\n",
       "    </tr>\n",
       "    <tr>\n",
       "      <th>4</th>\n",
       "      <td>40.008412</td>\n",
       "      <td>-75.289491</td>\n",
       "      <td>19003.0</td>\n",
       "      <td>Traffic: VEHICLE ACCIDENT -</td>\n",
       "      <td>2015-12-12 10:44:16</td>\n",
       "      <td>LOWER MERION</td>\n",
       "      <td>ST GEORGES RD &amp; COULTER AVE</td>\n",
       "      <td>Traffic</td>\n",
       "      <td>VEHICLE ACCIDENT -</td>\n",
       "      <td>10</td>\n",
       "      <td>Sabtu</td>\n",
       "      <td>12</td>\n",
       "      <td>2015</td>\n",
       "      <td>2015-12-12</td>\n",
       "      <td>pagi</td>\n",
       "      <td>0</td>\n",
       "      <td>0.025692</td>\n",
       "      <td>-0.151088</td>\n",
       "      <td>5</td>\n",
       "    </tr>\n",
       "  </tbody>\n",
       "</table>\n",
       "</div>"
      ],
      "text/plain": [
       "         lat        lng      zip                        title  \\\n",
       "0  40.161470 -75.130159  19090.0       EMS: CARDIAC EMERGENCY   \n",
       "1  40.155827 -75.365208  19403.0  Traffic: VEHICLE ACCIDENT -   \n",
       "2  40.105890 -75.084741  19006.0             EMS: FALL VICTIM   \n",
       "3  40.182374 -75.104914  19040.0        EMS: SYNCOPAL EPISODE   \n",
       "4  40.008412 -75.289491  19003.0  Traffic: VEHICLE ACCIDENT -   \n",
       "\n",
       "            timeStamp             twp                              addr  \\\n",
       "0 2015-12-12 13:10:11  UPPER MORELAND        COMMERCE AVE & MARYLAND RD   \n",
       "1 2015-12-11 06:17:56   EAST NORRITON  GERMANTOWN PIKE & BRIDLE PATH RD   \n",
       "2 2015-12-11 15:07:45        ABINGTON      HUNTINGDON PIKE & MOREDON RD   \n",
       "3 2015-12-11 09:38:57         HATBORO              YORK RD & VILLAGE PL   \n",
       "4 2015-12-12 10:44:16    LOWER MERION       ST GEORGES RD & COULTER AVE   \n",
       "\n",
       "  major_incident         sub_incident  hour dayOfWeek  month  year  \\\n",
       "0            EMS    CARDIAC EMERGENCY    13     Sabtu     12  2015   \n",
       "1        Traffic   VEHICLE ACCIDENT -     6     Jumat     12  2015   \n",
       "2            EMS          FALL VICTIM    15     Jumat     12  2015   \n",
       "3            EMS     SYNCOPAL EPISODE     9     Jumat     12  2015   \n",
       "4        Traffic   VEHICLE ACCIDENT -    10     Sabtu     12  2015   \n",
       "\n",
       "         date tmp_class_time_incident  flag_class_time_incident    x_axis  \\\n",
       "0  2015-12-12                   siang                         1  0.185025   \n",
       "1  2015-12-11                    pagi                         0 -0.050025   \n",
       "2  2015-12-11                   siang                         1  0.230443   \n",
       "3  2015-12-11                    pagi                         0  0.210270   \n",
       "4  2015-12-12                    pagi                         0  0.025692   \n",
       "\n",
       "     y_axis  cluster_loc  \n",
       "0  0.001970            0  \n",
       "1 -0.003673            2  \n",
       "2 -0.053610            0  \n",
       "3  0.022874            0  \n",
       "4 -0.151088            5  "
      ]
     },
     "execution_count": 296,
     "metadata": {},
     "output_type": "execute_result"
    }
   ],
   "source": [
    "data_train_cluster.head()"
   ]
  },
  {
   "cell_type": "code",
   "execution_count": 298,
   "metadata": {
    "collapsed": false
   },
   "outputs": [
    {
     "data": {
      "text/html": [
       "<div>\n",
       "<table border=\"1\" class=\"dataframe\">\n",
       "  <thead>\n",
       "    <tr style=\"text-align: right;\">\n",
       "      <th></th>\n",
       "      <th>cluster_loc</th>\n",
       "      <th>jumlah_call</th>\n",
       "    </tr>\n",
       "  </thead>\n",
       "  <tbody>\n",
       "    <tr>\n",
       "      <th>0</th>\n",
       "      <td>0</td>\n",
       "      <td>134</td>\n",
       "    </tr>\n",
       "    <tr>\n",
       "      <th>1</th>\n",
       "      <td>2</td>\n",
       "      <td>103</td>\n",
       "    </tr>\n",
       "    <tr>\n",
       "      <th>2</th>\n",
       "      <td>5</td>\n",
       "      <td>83</td>\n",
       "    </tr>\n",
       "    <tr>\n",
       "      <th>3</th>\n",
       "      <td>3</td>\n",
       "      <td>80</td>\n",
       "    </tr>\n",
       "    <tr>\n",
       "      <th>4</th>\n",
       "      <td>1</td>\n",
       "      <td>55</td>\n",
       "    </tr>\n",
       "    <tr>\n",
       "      <th>5</th>\n",
       "      <td>4</td>\n",
       "      <td>44</td>\n",
       "    </tr>\n",
       "  </tbody>\n",
       "</table>\n",
       "</div>"
      ],
      "text/plain": [
       "   cluster_loc  jumlah_call\n",
       "0            0          134\n",
       "1            2          103\n",
       "2            5           83\n",
       "3            3           80\n",
       "4            1           55\n",
       "5            4           44"
      ]
     },
     "execution_count": 298,
     "metadata": {},
     "output_type": "execute_result"
    }
   ],
   "source": [
    "# show most incident time in cluster zone\n",
    "po = pd.DataFrame(data_train_cluster['cluster_loc'].value_counts().head(10))\n",
    "po.reset_index(inplace=True)\n",
    "po.columns = ['cluster_loc', 'jumlah_call']\n",
    "po\n",
    "\n",
    "# po.sort(['cluster_loc', 'jumlah_call'], ascending=[1,0])"
   ]
  },
  {
   "cell_type": "code",
   "execution_count": 299,
   "metadata": {
    "collapsed": false
   },
   "outputs": [
    {
     "name": "stdout",
     "output_type": "stream",
     "text": [
      "======== Cluster 0 ========\n",
      "Jumlah insiden di pagi hari pada cluster 0: 49 kasus\n",
      "Jumlah insiden di siang hari pada cluster 0: 47 kasus\n",
      "Jumlah insiden di sore hari pada cluster 0: 27 kasus\n",
      "Jumlah insiden di malam hari pada cluster 0: 11 kasus\n",
      "\n",
      "======== Cluster 1 ========\n",
      "Jumlah insiden di pagi hari pada cluster 1: 9 kasus\n",
      "Jumlah insiden di siang hari pada cluster 1: 17 kasus\n",
      "Jumlah insiden di sore hari pada cluster 1: 25 kasus\n",
      "Jumlah insiden di malam hari pada cluster 1: 4 kasus\n",
      "\n",
      "======== Cluster 2 ========\n",
      "Jumlah insiden di pagi hari pada cluster 2: 35 kasus\n",
      "Jumlah insiden di siang hari pada cluster 2: 39 kasus\n",
      "Jumlah insiden di sore hari pada cluster 2: 19 kasus\n",
      "Jumlah insiden di malam hari pada cluster 2: 10 kasus\n",
      "\n",
      "======== Cluster 3 ========\n",
      "Jumlah insiden di pagi hari pada cluster 3: 18 kasus\n",
      "Jumlah insiden di siang hari pada cluster 3: 39 kasus\n",
      "Jumlah insiden di sore hari pada cluster 3: 17 kasus\n",
      "Jumlah insiden di malam hari pada cluster 3: 6 kasus\n",
      "\n",
      "======== Cluster 4 ========\n",
      "Jumlah insiden di pagi hari pada cluster 4: 13 kasus\n",
      "Jumlah insiden di siang hari pada cluster 4: 17 kasus\n",
      "Jumlah insiden di sore hari pada cluster 4: 6 kasus\n",
      "Jumlah insiden di malam hari pada cluster 4: 8 kasus\n",
      "\n",
      "======== Cluster 5 ========\n",
      "Jumlah insiden di pagi hari pada cluster 5: 21 kasus\n",
      "Jumlah insiden di siang hari pada cluster 5: 29 kasus\n",
      "Jumlah insiden di sore hari pada cluster 5: 16 kasus\n",
      "Jumlah insiden di malam hari pada cluster 5: 17 kasus\n"
     ]
    }
   ],
   "source": [
    "# show total incident in cluster zone based on latitude and longitude\n",
    "\n",
    "counter_0_0 = counter_0_1 = counter_0_2 = counter_0_3 = 0\n",
    "counter_1_0 = counter_1_1 = counter_1_2 = counter_1_3 = 0\n",
    "counter_2_0 = counter_2_1 = counter_2_2 = counter_2_3 = 0\n",
    "counter_3_0 = counter_3_1 = counter_3_2 = counter_3_3 = 0\n",
    "counter_4_0 = counter_4_1 = counter_4_2 = counter_4_3 = 0\n",
    "counter_5_0 = counter_5_1 = counter_5_2 = counter_5_3 = 0\n",
    "\n",
    "jon=0\n",
    "satu = dua = tiga = empat = lima = nol = 0\n",
    "\n",
    "for i in data_train_cluster['cluster_loc']:\n",
    "#     print i    \n",
    "    if data_train_cluster['cluster_loc'][jon]==0:\n",
    "        if data_train_cluster['flag_class_time_incident'][jon]==0:\n",
    "            counter_0_0+=1\n",
    "        elif data_train_cluster['flag_class_time_incident'][jon]==1:\n",
    "            counter_0_1+=1\n",
    "        elif data_train_cluster['flag_class_time_incident'][jon]==2:\n",
    "            counter_0_2+=1\n",
    "        else:\n",
    "            counter_0_3+=1\n",
    "            \n",
    "        nol+=1\n",
    "        \n",
    "    elif data_train_cluster['cluster_loc'][jon]==1:\n",
    "#         print \"nilai 1\"\n",
    "        if data_train_cluster['flag_class_time_incident'][jon]==0:\n",
    "            counter_1_0+=1\n",
    "        elif data_train_cluster['flag_class_time_incident'][jon]==1:\n",
    "            counter_1_1+=1\n",
    "        elif data_train_cluster['flag_class_time_incident'][jon]==2:\n",
    "            counter_1_2+=1\n",
    "        else:\n",
    "            counter_1_3+=1\n",
    "\n",
    "        satu+=1\n",
    "        \n",
    "    elif data_train_cluster['cluster_loc'][jon]==2:\n",
    "#         print \"nilai 2\"\n",
    "        if data_train_cluster['flag_class_time_incident'][jon]==0:\n",
    "            counter_2_0+=1\n",
    "        elif data_train_cluster['flag_class_time_incident'][jon]==1:\n",
    "            counter_2_1+=1\n",
    "        elif data_train_cluster['flag_class_time_incident'][jon]==2:\n",
    "            counter_2_2+=1\n",
    "        else:\n",
    "            counter_2_3+=1\n",
    "\n",
    "        dua+=1\n",
    "        \n",
    "    elif data_train_cluster['cluster_loc'][jon]==3:\n",
    "#         print \"nilai 3\"\n",
    "        if data_train_cluster['flag_class_time_incident'][jon]==0:\n",
    "            counter_3_0+=1\n",
    "        elif data_train_cluster['flag_class_time_incident'][jon]==1:\n",
    "            counter_3_1+=1\n",
    "        elif data_train_cluster['flag_class_time_incident'][jon]==2:\n",
    "            counter_3_2+=1\n",
    "        else:\n",
    "            counter_3_3+=1\n",
    "            \n",
    "        tiga+=1\n",
    "        \n",
    "    elif data_train_cluster['cluster_loc'][jon]==4:\n",
    "#         print \"nilai 4\"\n",
    "        if data_train_cluster['flag_class_time_incident'][jon]==0:\n",
    "            counter_4_0+=1\n",
    "        elif data_train_cluster['flag_class_time_incident'][jon]==1:\n",
    "            counter_4_1+=1\n",
    "        elif data_train_cluster['flag_class_time_incident'][jon]==2:\n",
    "            counter_4_2+=1\n",
    "        else:\n",
    "            counter_4_3+=1\n",
    "            \n",
    "        empat+=1\n",
    "    else:\n",
    "#         print \"nilai 5\"\n",
    "        if data_train_cluster['flag_class_time_incident'][jon]==0:\n",
    "            counter_5_0+=1\n",
    "        elif data_train_cluster['flag_class_time_incident'][jon]==1:\n",
    "            counter_5_1+=1\n",
    "        elif data_train_cluster['flag_class_time_incident'][jon]==2:\n",
    "            counter_5_2+=1\n",
    "        else:\n",
    "            counter_5_3+=1\n",
    "            \n",
    "        lima+=1\n",
    "        \n",
    "    jon+=1\n",
    "    \n",
    "# print nol\n",
    "# print satu\n",
    "# print dua\n",
    "# print tiga\n",
    "# print empat\n",
    "# print lima\n",
    "          \n",
    "# print \"jon:\", jon\n",
    "\n",
    "print \"======== Cluster 0 ========\"\n",
    "print \"Jumlah insiden di pagi hari pada cluster 0:\", counter_0_0, \"kasus\"\n",
    "print \"Jumlah insiden di siang hari pada cluster 0:\", counter_0_1, \"kasus\"\n",
    "print \"Jumlah insiden di sore hari pada cluster 0:\", counter_0_2, \"kasus\"\n",
    "print \"Jumlah insiden di malam hari pada cluster 0:\", counter_0_3, \"kasus\"\n",
    "\n",
    "print \"\\n======== Cluster 1 ========\"\n",
    "print \"Jumlah insiden di pagi hari pada cluster 1:\", counter_1_0, \"kasus\"\n",
    "print \"Jumlah insiden di siang hari pada cluster 1:\", counter_1_1, \"kasus\"\n",
    "print \"Jumlah insiden di sore hari pada cluster 1:\", counter_1_2, \"kasus\"\n",
    "print \"Jumlah insiden di malam hari pada cluster 1:\", counter_1_3, \"kasus\"\n",
    "\n",
    "print \"\\n======== Cluster 2 ========\"\n",
    "print \"Jumlah insiden di pagi hari pada cluster 2:\", counter_2_0, \"kasus\"\n",
    "print \"Jumlah insiden di siang hari pada cluster 2:\", counter_2_1, \"kasus\"\n",
    "print \"Jumlah insiden di sore hari pada cluster 2:\", counter_2_2, \"kasus\"\n",
    "print \"Jumlah insiden di malam hari pada cluster 2:\", counter_2_3, \"kasus\"\n",
    "\n",
    "print \"\\n======== Cluster 3 ========\"\n",
    "print \"Jumlah insiden di pagi hari pada cluster 3:\", counter_3_0, \"kasus\"\n",
    "print \"Jumlah insiden di siang hari pada cluster 3:\", counter_3_1, \"kasus\"\n",
    "print \"Jumlah insiden di sore hari pada cluster 3:\", counter_3_2, \"kasus\"\n",
    "print \"Jumlah insiden di malam hari pada cluster 3:\", counter_3_3, \"kasus\"\n",
    "\n",
    "print \"\\n======== Cluster 4 ========\"\n",
    "print \"Jumlah insiden di pagi hari pada cluster 4:\", counter_4_0, \"kasus\"\n",
    "print \"Jumlah insiden di siang hari pada cluster 4:\", counter_4_1, \"kasus\"\n",
    "print \"Jumlah insiden di sore hari pada cluster 4:\", counter_4_2, \"kasus\"\n",
    "print \"Jumlah insiden di malam hari pada cluster 4:\", counter_4_3, \"kasus\"\n",
    "\n",
    "print \"\\n======== Cluster 5 ========\"\n",
    "print \"Jumlah insiden di pagi hari pada cluster 5:\", counter_5_0, \"kasus\"\n",
    "print \"Jumlah insiden di siang hari pada cluster 5:\", counter_5_1, \"kasus\"\n",
    "print \"Jumlah insiden di sore hari pada cluster 5:\", counter_5_2, \"kasus\"\n",
    "print \"Jumlah insiden di malam hari pada cluster 5:\", counter_5_3, \"kasus\""
   ]
  },
  {
   "cell_type": "code",
   "execution_count": 300,
   "metadata": {
    "collapsed": false
   },
   "outputs": [],
   "source": [
    "cluster_loc_array = [0, 1, 2, 3, 4, 5]\n",
    "pagi_array = [counter_0_0, counter_1_0, counter_2_0, counter_3_0, counter_4_0, counter_5_0]\n",
    "siang_array = [counter_0_1, counter_1_1, counter_2_1, counter_3_1, counter_4_1, counter_5_1]\n",
    "sore_array = [counter_0_2, counter_1_2, counter_2_2, counter_3_2, counter_4_2, counter_5_2]\n",
    "malam_array = [counter_0_3, counter_1_3, counter_2_3, counter_3_3, counter_4_3, counter_5_3]\n",
    "\n",
    "data_list_cluster_based_time_incident = pd.DataFrame({'cluster_loc': cluster_loc_array, 'pagi': pagi_array, 'siang': siang_array, 'sore': sore_array, 'malam': malam_array})"
   ]
  },
  {
   "cell_type": "code",
   "execution_count": 301,
   "metadata": {
    "collapsed": false
   },
   "outputs": [
    {
     "data": {
      "text/html": [
       "<div>\n",
       "<table border=\"1\" class=\"dataframe\">\n",
       "  <thead>\n",
       "    <tr style=\"text-align: right;\">\n",
       "      <th></th>\n",
       "      <th>cluster_loc</th>\n",
       "      <th>malam</th>\n",
       "      <th>pagi</th>\n",
       "      <th>siang</th>\n",
       "      <th>sore</th>\n",
       "    </tr>\n",
       "  </thead>\n",
       "  <tbody>\n",
       "    <tr>\n",
       "      <th>0</th>\n",
       "      <td>0</td>\n",
       "      <td>11</td>\n",
       "      <td>49</td>\n",
       "      <td>47</td>\n",
       "      <td>27</td>\n",
       "    </tr>\n",
       "    <tr>\n",
       "      <th>1</th>\n",
       "      <td>1</td>\n",
       "      <td>4</td>\n",
       "      <td>9</td>\n",
       "      <td>17</td>\n",
       "      <td>25</td>\n",
       "    </tr>\n",
       "    <tr>\n",
       "      <th>2</th>\n",
       "      <td>2</td>\n",
       "      <td>10</td>\n",
       "      <td>35</td>\n",
       "      <td>39</td>\n",
       "      <td>19</td>\n",
       "    </tr>\n",
       "    <tr>\n",
       "      <th>3</th>\n",
       "      <td>3</td>\n",
       "      <td>6</td>\n",
       "      <td>18</td>\n",
       "      <td>39</td>\n",
       "      <td>17</td>\n",
       "    </tr>\n",
       "    <tr>\n",
       "      <th>4</th>\n",
       "      <td>4</td>\n",
       "      <td>8</td>\n",
       "      <td>13</td>\n",
       "      <td>17</td>\n",
       "      <td>6</td>\n",
       "    </tr>\n",
       "    <tr>\n",
       "      <th>5</th>\n",
       "      <td>5</td>\n",
       "      <td>17</td>\n",
       "      <td>21</td>\n",
       "      <td>29</td>\n",
       "      <td>16</td>\n",
       "    </tr>\n",
       "  </tbody>\n",
       "</table>\n",
       "</div>"
      ],
      "text/plain": [
       "   cluster_loc  malam  pagi  siang  sore\n",
       "0            0     11    49     47    27\n",
       "1            1      4     9     17    25\n",
       "2            2     10    35     39    19\n",
       "3            3      6    18     39    17\n",
       "4            4      8    13     17     6\n",
       "5            5     17    21     29    16"
      ]
     },
     "execution_count": 301,
     "metadata": {},
     "output_type": "execute_result"
    }
   ],
   "source": [
    "data_list_cluster_based_time_incident"
   ]
  },
  {
   "cell_type": "code",
   "execution_count": 302,
   "metadata": {
    "collapsed": false
   },
   "outputs": [
    {
     "data": {
      "text/plain": [
       "<matplotlib.axes._subplots.AxesSubplot at 0x154f2ef0>"
      ]
     },
     "execution_count": 302,
     "metadata": {},
     "output_type": "execute_result"
    },
    {
     "data": {
      "image/png": "[encoded data removed]",
      "text/plain": [
       "<matplotlib.figure.Figure at 0x1726ab70>"
      ]
     },
     "metadata": {},
     "output_type": "display_data"
    }
   ],
   "source": [
    "plt.title(\"Insiden (Pagi)\")\n",
    "# sns.lmplot('malam', 'cluster_loc', data=data_list_cluster_based_time_incident, fit_reg=False)\n",
    "\n",
    "# fig1 = plt.figure(figsize=(3,3))\n",
    "sns.barplot(data=data_list_cluster_based_time_incident, x='cluster_loc', y='pagi', palette=\"viridis\")\n",
    "# fig1.tight_layout()"
   ]
  },
  {
   "cell_type": "code",
   "execution_count": 303,
   "metadata": {
    "collapsed": false
   },
   "outputs": [
    {
     "data": {
      "text/plain": [
       "<matplotlib.axes._subplots.AxesSubplot at 0x154c22e8>"
      ]
     },
     "execution_count": 303,
     "metadata": {},
     "output_type": "execute_result"
    },
    {
     "data": {
      "image/png": "[encoded data removed]",
      "text/plain": [
       "<matplotlib.figure.Figure at 0x1743e7b8>"
      ]
     },
     "metadata": {},
     "output_type": "display_data"
    }
   ],
   "source": [
    "plt.title(\"Insiden (Siang)\")\n",
    "sns.barplot(data=data_list_cluster_based_time_incident, x='cluster_loc', y='siang', palette=\"viridis\")"
   ]
  },
  {
   "cell_type": "code",
   "execution_count": 304,
   "metadata": {
    "collapsed": false
   },
   "outputs": [
    {
     "data": {
      "text/plain": [
       "<matplotlib.axes._subplots.AxesSubplot at 0x17462518>"
      ]
     },
     "execution_count": 304,
     "metadata": {},
     "output_type": "execute_result"
    },
    {
     "data": {
      "image/png": "[encoded data removed]",
      "text/plain": [
       "<matplotlib.figure.Figure at 0x17476828>"
      ]
     },
     "metadata": {},
     "output_type": "display_data"
    }
   ],
   "source": [
    "plt.title(\"Insiden (Sore)\")\n",
    "sns.barplot(data=data_list_cluster_based_time_incident, x='cluster_loc', y='sore', palette=\"viridis\")"
   ]
  },
  {
   "cell_type": "code",
   "execution_count": 305,
   "metadata": {
    "collapsed": false
   },
   "outputs": [
    {
     "data": {
      "text/plain": [
       "<matplotlib.axes._subplots.AxesSubplot at 0x177c90f0>"
      ]
     },
     "execution_count": 305,
     "metadata": {},
     "output_type": "execute_result"
    },
    {
     "data": {
      "image/png": "[encoded data removed]",
      "text/plain": [
       "<matplotlib.figure.Figure at 0x177d2a20>"
      ]
     },
     "metadata": {},
     "output_type": "display_data"
    }
   ],
   "source": [
    "plt.title(\"Insiden (Malam)\")\n",
    "sns.barplot(data=data_list_cluster_based_time_incident, x='cluster_loc', y='malam', palette=\"viridis\")"
   ]
  },
  {
   "cell_type": "code",
   "execution_count": 312,
   "metadata": {
    "collapsed": false
   },
   "outputs": [
    {
     "data": {
      "text/plain": [
       "<matplotlib.text.Text at 0x17be9ac8>"
      ]
     },
     "execution_count": 312,
     "metadata": {},
     "output_type": "execute_result"
    },
    {
     "data": {
      "image/png": "[encoded data removed]",
      "text/plain": [
       "<matplotlib.figure.Figure at 0x17934fd0>"
      ]
     },
     "metadata": {},
     "output_type": "display_data"
    }
   ],
   "source": [
    "# CLUSTER DATA TEST\n",
    "\n",
    "data_test_locat = test_data2.copy()\n",
    "data_test_locat.reset_index().drop('index', axis=1, inplace=True)\n",
    "\n",
    "\n",
    "# inisiasi value untuk clustering berdasarkan latitude dan longitude\n",
    "x_mean_test = data_test_locat['lng'].mean()\n",
    "y_mean_test = data_test_locat['lat'].mean()\n",
    "\n",
    "data_test_locat['x_axis'] = data_test_locat['lng'].map(lambda v:v-x_mean_test)\n",
    "data_test_locat['y_axis'] = data_test_locat['lat'].map(lambda v:v-y_mean_test)\n",
    "\n",
    "\n",
    "X_test = data_test_locat[['x_axis','y_axis']].reset_index().drop('index',axis=1)\n",
    "\n",
    "\n",
    "# (CLUSTER) try with default n cluster=10\n",
    "# case: get cluster based from latitude and longitude coordinate place\n",
    "cluster_kmeans = KMeans(n_clusters=6)\n",
    "\n",
    "\n",
    "# show properties from kmeans clustering\n",
    "cluster_kmeans.fit(X_test)\n",
    "\n",
    "\n",
    "fig = plt.figure(figsize=(7,7))\n",
    "plt.scatter(X_test['x_axis'], X_test['y_axis'], c=cluster_kmeans.labels_, cmap='rainbow')\n",
    "plt.title(\"Clustering Data Test: 6 Cluster\")"
   ]
  },
  {
   "cell_type": "code",
   "execution_count": 319,
   "metadata": {
    "collapsed": true
   },
   "outputs": [],
   "source": [
    "data_tmp_test_locat = data_test_locat.copy()"
   ]
  },
  {
   "cell_type": "code",
   "execution_count": 322,
   "metadata": {
    "collapsed": false
   },
   "outputs": [
    {
     "data": {
      "text/html": [
       "<div>\n",
       "<table border=\"1\" class=\"dataframe\">\n",
       "  <thead>\n",
       "    <tr style=\"text-align: right;\">\n",
       "      <th></th>\n",
       "      <th>lat</th>\n",
       "      <th>lng</th>\n",
       "      <th>desc</th>\n",
       "      <th>zip</th>\n",
       "      <th>title</th>\n",
       "      <th>timeStamp</th>\n",
       "      <th>twp</th>\n",
       "      <th>addr</th>\n",
       "      <th>major_incident</th>\n",
       "      <th>sub_incident</th>\n",
       "      <th>hour</th>\n",
       "      <th>dayOfWeek</th>\n",
       "      <th>month</th>\n",
       "      <th>year</th>\n",
       "      <th>date</th>\n",
       "      <th>tmp_class_time_incident</th>\n",
       "      <th>flag_class_time_incident</th>\n",
       "      <th>x_axis</th>\n",
       "      <th>y_axis</th>\n",
       "    </tr>\n",
       "  </thead>\n",
       "  <tbody>\n",
       "    <tr>\n",
       "      <th>723</th>\n",
       "      <td>40.272735</td>\n",
       "      <td>-75.257924</td>\n",
       "      <td>BETHLEHEM PIKE &amp; LENHART RD; HATFIELD TOWNSHIP...</td>\n",
       "      <td>18915.0</td>\n",
       "      <td>Fire: FIRE ALARM</td>\n",
       "      <td>2015-12-12 16:20:21</td>\n",
       "      <td>HATFIELD TOWNSHIP</td>\n",
       "      <td>BETHLEHEM PIKE &amp; LENHART RD</td>\n",
       "      <td>Fire</td>\n",
       "      <td>FIRE ALARM</td>\n",
       "      <td>16</td>\n",
       "      <td>Sabtu</td>\n",
       "      <td>12</td>\n",
       "      <td>2015</td>\n",
       "      <td>2015-12-12</td>\n",
       "      <td>siang</td>\n",
       "      <td>1</td>\n",
       "      <td>0.053572</td>\n",
       "      <td>0.114882</td>\n",
       "    </tr>\n",
       "    <tr>\n",
       "      <th>259</th>\n",
       "      <td>40.122891</td>\n",
       "      <td>-75.064149</td>\n",
       "      <td>HUNTINGDON PIKE &amp; WYNKOOP AVE;  LOWER MORELAND...</td>\n",
       "      <td>19006.0</td>\n",
       "      <td>EMS: RESPIRATORY EMERGENCY</td>\n",
       "      <td>2015-12-11 12:54:38</td>\n",
       "      <td>LOWER MORELAND</td>\n",
       "      <td>HUNTINGDON PIKE &amp; WYNKOOP AVE</td>\n",
       "      <td>EMS</td>\n",
       "      <td>RESPIRATORY EMERGENCY</td>\n",
       "      <td>12</td>\n",
       "      <td>Jumat</td>\n",
       "      <td>12</td>\n",
       "      <td>2015</td>\n",
       "      <td>2015-12-11</td>\n",
       "      <td>pagi</td>\n",
       "      <td>0</td>\n",
       "      <td>0.247346</td>\n",
       "      <td>-0.034962</td>\n",
       "    </tr>\n",
       "  </tbody>\n",
       "</table>\n",
       "</div>"
      ],
      "text/plain": [
       "           lat        lng                                               desc  \\\n",
       "723  40.272735 -75.257924  BETHLEHEM PIKE & LENHART RD; HATFIELD TOWNSHIP...   \n",
       "259  40.122891 -75.064149  HUNTINGDON PIKE & WYNKOOP AVE;  LOWER MORELAND...   \n",
       "\n",
       "         zip                       title           timeStamp  \\\n",
       "723  18915.0            Fire: FIRE ALARM 2015-12-12 16:20:21   \n",
       "259  19006.0  EMS: RESPIRATORY EMERGENCY 2015-12-11 12:54:38   \n",
       "\n",
       "                   twp                           addr major_incident  \\\n",
       "723  HATFIELD TOWNSHIP    BETHLEHEM PIKE & LENHART RD           Fire   \n",
       "259     LOWER MORELAND  HUNTINGDON PIKE & WYNKOOP AVE            EMS   \n",
       "\n",
       "               sub_incident  hour dayOfWeek  month  year        date  \\\n",
       "723              FIRE ALARM    16     Sabtu     12  2015  2015-12-12   \n",
       "259   RESPIRATORY EMERGENCY    12     Jumat     12  2015  2015-12-11   \n",
       "\n",
       "    tmp_class_time_incident  flag_class_time_incident    x_axis    y_axis  \n",
       "723                   siang                         1  0.053572  0.114882  \n",
       "259                    pagi                         0  0.247346 -0.034962  "
      ]
     },
     "execution_count": 322,
     "metadata": {},
     "output_type": "execute_result"
    }
   ],
   "source": [
    "data_tmp_test_locat.head(2)"
   ]
  },
  {
   "cell_type": "code",
   "execution_count": 325,
   "metadata": {
    "collapsed": false
   },
   "outputs": [],
   "source": [
    "data_test_cluster = pd.concat([data_tmp_test_locat.reset_index().drop('index', axis=1), pd.DataFrame(cluster_kmeans.labels_, columns=['cluster_loc'])], axis=1)\n",
    "\n",
    "data_test_cluster.drop(['desc'], axis=1, inplace=True)"
   ]
  },
  {
   "cell_type": "code",
   "execution_count": 326,
   "metadata": {
    "collapsed": false
   },
   "outputs": [
    {
     "data": {
      "text/html": [
       "<div>\n",
       "<table border=\"1\" class=\"dataframe\">\n",
       "  <thead>\n",
       "    <tr style=\"text-align: right;\">\n",
       "      <th></th>\n",
       "      <th>lat</th>\n",
       "      <th>lng</th>\n",
       "      <th>zip</th>\n",
       "      <th>title</th>\n",
       "      <th>timeStamp</th>\n",
       "      <th>twp</th>\n",
       "      <th>addr</th>\n",
       "      <th>major_incident</th>\n",
       "      <th>sub_incident</th>\n",
       "      <th>hour</th>\n",
       "      <th>dayOfWeek</th>\n",
       "      <th>month</th>\n",
       "      <th>year</th>\n",
       "      <th>date</th>\n",
       "      <th>tmp_class_time_incident</th>\n",
       "      <th>flag_class_time_incident</th>\n",
       "      <th>x_axis</th>\n",
       "      <th>y_axis</th>\n",
       "      <th>cluster_loc</th>\n",
       "    </tr>\n",
       "  </thead>\n",
       "  <tbody>\n",
       "    <tr>\n",
       "      <th>0</th>\n",
       "      <td>40.272735</td>\n",
       "      <td>-75.257924</td>\n",
       "      <td>18915.0</td>\n",
       "      <td>Fire: FIRE ALARM</td>\n",
       "      <td>2015-12-12 16:20:21</td>\n",
       "      <td>HATFIELD TOWNSHIP</td>\n",
       "      <td>BETHLEHEM PIKE &amp; LENHART RD</td>\n",
       "      <td>Fire</td>\n",
       "      <td>FIRE ALARM</td>\n",
       "      <td>16</td>\n",
       "      <td>Sabtu</td>\n",
       "      <td>12</td>\n",
       "      <td>2015</td>\n",
       "      <td>2015-12-12</td>\n",
       "      <td>siang</td>\n",
       "      <td>1</td>\n",
       "      <td>0.053572</td>\n",
       "      <td>0.114882</td>\n",
       "      <td>4</td>\n",
       "    </tr>\n",
       "    <tr>\n",
       "      <th>1</th>\n",
       "      <td>40.122891</td>\n",
       "      <td>-75.064149</td>\n",
       "      <td>19006.0</td>\n",
       "      <td>EMS: RESPIRATORY EMERGENCY</td>\n",
       "      <td>2015-12-11 12:54:38</td>\n",
       "      <td>LOWER MORELAND</td>\n",
       "      <td>HUNTINGDON PIKE &amp; WYNKOOP AVE</td>\n",
       "      <td>EMS</td>\n",
       "      <td>RESPIRATORY EMERGENCY</td>\n",
       "      <td>12</td>\n",
       "      <td>Jumat</td>\n",
       "      <td>12</td>\n",
       "      <td>2015</td>\n",
       "      <td>2015-12-11</td>\n",
       "      <td>pagi</td>\n",
       "      <td>0</td>\n",
       "      <td>0.247346</td>\n",
       "      <td>-0.034962</td>\n",
       "      <td>1</td>\n",
       "    </tr>\n",
       "    <tr>\n",
       "      <th>2</th>\n",
       "      <td>40.097591</td>\n",
       "      <td>-75.252537</td>\n",
       "      <td>19444.0</td>\n",
       "      <td>EMS: ABDOMINAL PAINS</td>\n",
       "      <td>2015-12-10 23:32:46</td>\n",
       "      <td>WHITEMARSH</td>\n",
       "      <td>BARBERRY DR &amp; PHEASANT LN</td>\n",
       "      <td>EMS</td>\n",
       "      <td>ABDOMINAL PAINS</td>\n",
       "      <td>23</td>\n",
       "      <td>Kamis</td>\n",
       "      <td>12</td>\n",
       "      <td>2015</td>\n",
       "      <td>2015-12-10</td>\n",
       "      <td>sore</td>\n",
       "      <td>2</td>\n",
       "      <td>0.058958</td>\n",
       "      <td>-0.060263</td>\n",
       "      <td>3</td>\n",
       "    </tr>\n",
       "    <tr>\n",
       "      <th>3</th>\n",
       "      <td>40.034867</td>\n",
       "      <td>-75.327606</td>\n",
       "      <td>19010.0</td>\n",
       "      <td>EMS: RESPIRATORY EMERGENCY</td>\n",
       "      <td>2015-12-10 20:49:08</td>\n",
       "      <td>LOWER MERION</td>\n",
       "      <td>MONTGOMERY AVE &amp; THORNBROOK AVE</td>\n",
       "      <td>EMS</td>\n",
       "      <td>RESPIRATORY EMERGENCY</td>\n",
       "      <td>20</td>\n",
       "      <td>Kamis</td>\n",
       "      <td>12</td>\n",
       "      <td>2015</td>\n",
       "      <td>2015-12-10</td>\n",
       "      <td>sore</td>\n",
       "      <td>2</td>\n",
       "      <td>-0.016111</td>\n",
       "      <td>-0.122987</td>\n",
       "      <td>3</td>\n",
       "    </tr>\n",
       "    <tr>\n",
       "      <th>4</th>\n",
       "      <td>40.311629</td>\n",
       "      <td>-75.331096</td>\n",
       "      <td>18964.0</td>\n",
       "      <td>EMS: DIZZINESS</td>\n",
       "      <td>2015-12-11 12:57:49</td>\n",
       "      <td>FRANCONIA</td>\n",
       "      <td>SUMMIT ST &amp; COLONIAL AVE</td>\n",
       "      <td>EMS</td>\n",
       "      <td>DIZZINESS</td>\n",
       "      <td>12</td>\n",
       "      <td>Jumat</td>\n",
       "      <td>12</td>\n",
       "      <td>2015</td>\n",
       "      <td>2015-12-11</td>\n",
       "      <td>pagi</td>\n",
       "      <td>0</td>\n",
       "      <td>-0.019601</td>\n",
       "      <td>0.153776</td>\n",
       "      <td>4</td>\n",
       "    </tr>\n",
       "  </tbody>\n",
       "</table>\n",
       "</div>"
      ],
      "text/plain": [
       "         lat        lng      zip                       title  \\\n",
       "0  40.272735 -75.257924  18915.0            Fire: FIRE ALARM   \n",
       "1  40.122891 -75.064149  19006.0  EMS: RESPIRATORY EMERGENCY   \n",
       "2  40.097591 -75.252537  19444.0        EMS: ABDOMINAL PAINS   \n",
       "3  40.034867 -75.327606  19010.0  EMS: RESPIRATORY EMERGENCY   \n",
       "4  40.311629 -75.331096  18964.0              EMS: DIZZINESS   \n",
       "\n",
       "            timeStamp                twp                             addr  \\\n",
       "0 2015-12-12 16:20:21  HATFIELD TOWNSHIP      BETHLEHEM PIKE & LENHART RD   \n",
       "1 2015-12-11 12:54:38     LOWER MORELAND    HUNTINGDON PIKE & WYNKOOP AVE   \n",
       "2 2015-12-10 23:32:46         WHITEMARSH        BARBERRY DR & PHEASANT LN   \n",
       "3 2015-12-10 20:49:08       LOWER MERION  MONTGOMERY AVE & THORNBROOK AVE   \n",
       "4 2015-12-11 12:57:49          FRANCONIA         SUMMIT ST & COLONIAL AVE   \n",
       "\n",
       "  major_incident            sub_incident  hour dayOfWeek  month  year  \\\n",
       "0           Fire              FIRE ALARM    16     Sabtu     12  2015   \n",
       "1            EMS   RESPIRATORY EMERGENCY    12     Jumat     12  2015   \n",
       "2            EMS         ABDOMINAL PAINS    23     Kamis     12  2015   \n",
       "3            EMS   RESPIRATORY EMERGENCY    20     Kamis     12  2015   \n",
       "4            EMS               DIZZINESS    12     Jumat     12  2015   \n",
       "\n",
       "         date tmp_class_time_incident  flag_class_time_incident    x_axis  \\\n",
       "0  2015-12-12                   siang                         1  0.053572   \n",
       "1  2015-12-11                    pagi                         0  0.247346   \n",
       "2  2015-12-10                    sore                         2  0.058958   \n",
       "3  2015-12-10                    sore                         2 -0.016111   \n",
       "4  2015-12-11                    pagi                         0 -0.019601   \n",
       "\n",
       "     y_axis  cluster_loc  \n",
       "0  0.114882            4  \n",
       "1 -0.034962            1  \n",
       "2 -0.060263            3  \n",
       "3 -0.122987            3  \n",
       "4  0.153776            4  "
      ]
     },
     "execution_count": 326,
     "metadata": {},
     "output_type": "execute_result"
    }
   ],
   "source": [
    "data_test_cluster.head()"
   ]
  },
  {
   "cell_type": "code",
   "execution_count": 327,
   "metadata": {
    "collapsed": false
   },
   "outputs": [
    {
     "data": {
      "text/html": [
       "<div>\n",
       "<table border=\"1\" class=\"dataframe\">\n",
       "  <thead>\n",
       "    <tr style=\"text-align: right;\">\n",
       "      <th></th>\n",
       "      <th>cluster_loc</th>\n",
       "      <th>jumlah_call</th>\n",
       "    </tr>\n",
       "  </thead>\n",
       "  <tbody>\n",
       "    <tr>\n",
       "      <th>0</th>\n",
       "      <td>1</td>\n",
       "      <td>30</td>\n",
       "    </tr>\n",
       "    <tr>\n",
       "      <th>1</th>\n",
       "      <td>0</td>\n",
       "      <td>29</td>\n",
       "    </tr>\n",
       "    <tr>\n",
       "      <th>2</th>\n",
       "      <td>4</td>\n",
       "      <td>26</td>\n",
       "    </tr>\n",
       "    <tr>\n",
       "      <th>3</th>\n",
       "      <td>3</td>\n",
       "      <td>17</td>\n",
       "    </tr>\n",
       "    <tr>\n",
       "      <th>4</th>\n",
       "      <td>2</td>\n",
       "      <td>15</td>\n",
       "    </tr>\n",
       "    <tr>\n",
       "      <th>5</th>\n",
       "      <td>5</td>\n",
       "      <td>8</td>\n",
       "    </tr>\n",
       "  </tbody>\n",
       "</table>\n",
       "</div>"
      ],
      "text/plain": [
       "   cluster_loc  jumlah_call\n",
       "0            1           30\n",
       "1            0           29\n",
       "2            4           26\n",
       "3            3           17\n",
       "4            2           15\n",
       "5            5            8"
      ]
     },
     "execution_count": 327,
     "metadata": {},
     "output_type": "execute_result"
    }
   ],
   "source": [
    "# show most incident time in cluster zone\n",
    "pi = pd.DataFrame(data_test_cluster['cluster_loc'].value_counts().head(10))\n",
    "pi.reset_index(inplace=True)\n",
    "pi.columns = ['cluster_loc', 'jumlah_call']\n",
    "pi\n",
    "\n",
    "# po.sort(['cluster_loc', 'jumlah_call'], ascending=[1,0])"
   ]
  },
  {
   "cell_type": "code",
   "execution_count": 328,
   "metadata": {
    "collapsed": true
   },
   "outputs": [],
   "source": [
    "# show total incident in cluster zone based on latitude and longitude\n",
    "\n",
    "counter_0_0 = counter_0_1 = counter_0_2 = counter_0_3 = 0\n",
    "counter_1_0 = counter_1_1 = counter_1_2 = counter_1_3 = 0\n",
    "counter_2_0 = counter_2_1 = counter_2_2 = counter_2_3 = 0\n",
    "counter_3_0 = counter_3_1 = counter_3_2 = counter_3_3 = 0\n",
    "counter_4_0 = counter_4_1 = counter_4_2 = counter_4_3 = 0\n",
    "counter_5_0 = counter_5_1 = counter_5_2 = counter_5_3 = 0\n",
    "\n",
    "jon=0\n",
    "satu = dua = tiga = empat = lima = nol = 0\n",
    "\n",
    "for i in data_test_cluster['cluster_loc']:\n",
    "#     print i    \n",
    "    if data_test_cluster['cluster_loc'][jon]==0:\n",
    "        if data_test_cluster['flag_class_time_incident'][jon]==0:\n",
    "            counter_0_0+=1\n",
    "        elif data_test_cluster['flag_class_time_incident'][jon]==1:\n",
    "            counter_0_1+=1\n",
    "        elif data_test_cluster['flag_class_time_incident'][jon]==2:\n",
    "            counter_0_2+=1\n",
    "        else:\n",
    "            counter_0_3+=1\n",
    "            \n",
    "        nol+=1\n",
    "        \n",
    "    elif data_test_cluster['cluster_loc'][jon]==1:\n",
    "#         print \"nilai 1\"\n",
    "        if data_test_cluster['flag_class_time_incident'][jon]==0:\n",
    "            counter_1_0+=1\n",
    "        elif data_test_cluster['flag_class_time_incident'][jon]==1:\n",
    "            counter_1_1+=1\n",
    "        elif data_test_cluster['flag_class_time_incident'][jon]==2:\n",
    "            counter_1_2+=1\n",
    "        else:\n",
    "            counter_1_3+=1\n",
    "\n",
    "        satu+=1\n",
    "        \n",
    "    elif data_test_cluster['cluster_loc'][jon]==2:\n",
    "#         print \"nilai 2\"\n",
    "        if data_test_cluster['flag_class_time_incident'][jon]==0:\n",
    "            counter_2_0+=1\n",
    "        elif data_test_cluster['flag_class_time_incident'][jon]==1:\n",
    "            counter_2_1+=1\n",
    "        elif data_test_cluster['flag_class_time_incident'][jon]==2:\n",
    "            counter_2_2+=1\n",
    "        else:\n",
    "            counter_2_3+=1\n",
    "\n",
    "        dua+=1\n",
    "        \n",
    "    elif data_test_cluster['cluster_loc'][jon]==3:\n",
    "#         print \"nilai 3\"\n",
    "        if data_test_cluster['flag_class_time_incident'][jon]==0:\n",
    "            counter_3_0+=1\n",
    "        elif data_test_cluster['flag_class_time_incident'][jon]==1:\n",
    "            counter_3_1+=1\n",
    "        elif data_test_cluster['flag_class_time_incident'][jon]==2:\n",
    "            counter_3_2+=1\n",
    "        else:\n",
    "            counter_3_3+=1\n",
    "            \n",
    "        tiga+=1\n",
    "        \n",
    "    elif data_test_cluster['cluster_loc'][jon]==4:\n",
    "#         print \"nilai 4\"\n",
    "        if data_test_cluster['flag_class_time_incident'][jon]==0:\n",
    "            counter_4_0+=1\n",
    "        elif data_test_cluster['flag_class_time_incident'][jon]==1:\n",
    "            counter_4_1+=1\n",
    "        elif data_test_cluster['flag_class_time_incident'][jon]==2:\n",
    "            counter_4_2+=1\n",
    "        else:\n",
    "            counter_4_3+=1\n",
    "            \n",
    "        empat+=1\n",
    "    else:\n",
    "#         print \"nilai 5\"\n",
    "        if data_test_cluster['flag_class_time_incident'][jon]==0:\n",
    "            counter_5_0+=1\n",
    "        elif data_test_cluster['flag_class_time_incident'][jon]==1:\n",
    "            counter_5_1+=1\n",
    "        elif data_test_cluster['flag_class_time_incident'][jon]==2:\n",
    "            counter_5_2+=1\n",
    "        else:\n",
    "            counter_5_3+=1\n",
    "            \n",
    "        lima+=1\n",
    "        \n",
    "    jon+=1"
   ]
  },
  {
   "cell_type": "code",
   "execution_count": 329,
   "metadata": {
    "collapsed": false
   },
   "outputs": [
    {
     "name": "stdout",
     "output_type": "stream",
     "text": [
      "======== Cluster 0 ========\n",
      "Jumlah insiden di pagi hari pada cluster 0: 10 kasus\n",
      "Jumlah insiden di siang hari pada cluster 0: 14 kasus\n",
      "Jumlah insiden di sore hari pada cluster 0: 3 kasus\n",
      "Jumlah insiden di malam hari pada cluster 0: 2 kasus\n",
      "\n",
      "======== Cluster 1 ========\n",
      "Jumlah insiden di pagi hari pada cluster 1: 8 kasus\n",
      "Jumlah insiden di siang hari pada cluster 1: 17 kasus\n",
      "Jumlah insiden di sore hari pada cluster 1: 2 kasus\n",
      "Jumlah insiden di malam hari pada cluster 1: 3 kasus\n",
      "\n",
      "======== Cluster 2 ========\n",
      "Jumlah insiden di pagi hari pada cluster 2: 6 kasus\n",
      "Jumlah insiden di siang hari pada cluster 2: 7 kasus\n",
      "Jumlah insiden di sore hari pada cluster 2: 0 kasus\n",
      "Jumlah insiden di malam hari pada cluster 2: 2 kasus\n",
      "\n",
      "======== Cluster 3 ========\n",
      "Jumlah insiden di pagi hari pada cluster 3: 2 kasus\n",
      "Jumlah insiden di siang hari pada cluster 3: 8 kasus\n",
      "Jumlah insiden di sore hari pada cluster 3: 5 kasus\n",
      "Jumlah insiden di malam hari pada cluster 3: 2 kasus\n",
      "\n",
      "======== Cluster 4 ========\n",
      "Jumlah insiden di pagi hari pada cluster 4: 10 kasus\n",
      "Jumlah insiden di siang hari pada cluster 4: 9 kasus\n",
      "Jumlah insiden di sore hari pada cluster 4: 5 kasus\n",
      "Jumlah insiden di malam hari pada cluster 4: 2 kasus\n",
      "\n",
      "======== Cluster 5 ========\n",
      "Jumlah insiden di pagi hari pada cluster 5: 1 kasus\n",
      "Jumlah insiden di siang hari pada cluster 5: 4 kasus\n",
      "Jumlah insiden di sore hari pada cluster 5: 3 kasus\n",
      "Jumlah insiden di malam hari pada cluster 5: 0 kasus\n"
     ]
    }
   ],
   "source": [
    "print \"======== Cluster 0 ========\"\n",
    "print \"Jumlah insiden di pagi hari pada cluster 0:\", counter_0_0, \"kasus\"\n",
    "print \"Jumlah insiden di siang hari pada cluster 0:\", counter_0_1, \"kasus\"\n",
    "print \"Jumlah insiden di sore hari pada cluster 0:\", counter_0_2, \"kasus\"\n",
    "print \"Jumlah insiden di malam hari pada cluster 0:\", counter_0_3, \"kasus\"\n",
    "\n",
    "print \"\\n======== Cluster 1 ========\"\n",
    "print \"Jumlah insiden di pagi hari pada cluster 1:\", counter_1_0, \"kasus\"\n",
    "print \"Jumlah insiden di siang hari pada cluster 1:\", counter_1_1, \"kasus\"\n",
    "print \"Jumlah insiden di sore hari pada cluster 1:\", counter_1_2, \"kasus\"\n",
    "print \"Jumlah insiden di malam hari pada cluster 1:\", counter_1_3, \"kasus\"\n",
    "\n",
    "print \"\\n======== Cluster 2 ========\"\n",
    "print \"Jumlah insiden di pagi hari pada cluster 2:\", counter_2_0, \"kasus\"\n",
    "print \"Jumlah insiden di siang hari pada cluster 2:\", counter_2_1, \"kasus\"\n",
    "print \"Jumlah insiden di sore hari pada cluster 2:\", counter_2_2, \"kasus\"\n",
    "print \"Jumlah insiden di malam hari pada cluster 2:\", counter_2_3, \"kasus\"\n",
    "\n",
    "print \"\\n======== Cluster 3 ========\"\n",
    "print \"Jumlah insiden di pagi hari pada cluster 3:\", counter_3_0, \"kasus\"\n",
    "print \"Jumlah insiden di siang hari pada cluster 3:\", counter_3_1, \"kasus\"\n",
    "print \"Jumlah insiden di sore hari pada cluster 3:\", counter_3_2, \"kasus\"\n",
    "print \"Jumlah insiden di malam hari pada cluster 3:\", counter_3_3, \"kasus\"\n",
    "\n",
    "print \"\\n======== Cluster 4 ========\"\n",
    "print \"Jumlah insiden di pagi hari pada cluster 4:\", counter_4_0, \"kasus\"\n",
    "print \"Jumlah insiden di siang hari pada cluster 4:\", counter_4_1, \"kasus\"\n",
    "print \"Jumlah insiden di sore hari pada cluster 4:\", counter_4_2, \"kasus\"\n",
    "print \"Jumlah insiden di malam hari pada cluster 4:\", counter_4_3, \"kasus\"\n",
    "\n",
    "print \"\\n======== Cluster 5 ========\"\n",
    "print \"Jumlah insiden di pagi hari pada cluster 5:\", counter_5_0, \"kasus\"\n",
    "print \"Jumlah insiden di siang hari pada cluster 5:\", counter_5_1, \"kasus\"\n",
    "print \"Jumlah insiden di sore hari pada cluster 5:\", counter_5_2, \"kasus\"\n",
    "print \"Jumlah insiden di malam hari pada cluster 5:\", counter_5_3, \"kasus\""
   ]
  },
  {
   "cell_type": "code",
   "execution_count": 330,
   "metadata": {
    "collapsed": true
   },
   "outputs": [],
   "source": [
    "cluster_loc_array = [0, 1, 2, 3, 4, 5]\n",
    "pagi_array = [counter_0_0, counter_1_0, counter_2_0, counter_3_0, counter_4_0, counter_5_0]\n",
    "siang_array = [counter_0_1, counter_1_1, counter_2_1, counter_3_1, counter_4_1, counter_5_1]\n",
    "sore_array = [counter_0_2, counter_1_2, counter_2_2, counter_3_2, counter_4_2, counter_5_2]\n",
    "malam_array = [counter_0_3, counter_1_3, counter_2_3, counter_3_3, counter_4_3, counter_5_3]\n",
    "\n",
    "data_list_cluster_based_time_incident_test = pd.DataFrame({'cluster_loc': cluster_loc_array, 'pagi': pagi_array, 'siang': siang_array, 'sore': sore_array, 'malam': malam_array})"
   ]
  },
  {
   "cell_type": "code",
   "execution_count": 332,
   "metadata": {
    "collapsed": false
   },
   "outputs": [
    {
     "data": {
      "text/html": [
       "<div>\n",
       "<table border=\"1\" class=\"dataframe\">\n",
       "  <thead>\n",
       "    <tr style=\"text-align: right;\">\n",
       "      <th></th>\n",
       "      <th>cluster_loc</th>\n",
       "      <th>malam</th>\n",
       "      <th>pagi</th>\n",
       "      <th>siang</th>\n",
       "      <th>sore</th>\n",
       "    </tr>\n",
       "  </thead>\n",
       "  <tbody>\n",
       "    <tr>\n",
       "      <th>0</th>\n",
       "      <td>0</td>\n",
       "      <td>2</td>\n",
       "      <td>10</td>\n",
       "      <td>14</td>\n",
       "      <td>3</td>\n",
       "    </tr>\n",
       "    <tr>\n",
       "      <th>1</th>\n",
       "      <td>1</td>\n",
       "      <td>3</td>\n",
       "      <td>8</td>\n",
       "      <td>17</td>\n",
       "      <td>2</td>\n",
       "    </tr>\n",
       "    <tr>\n",
       "      <th>2</th>\n",
       "      <td>2</td>\n",
       "      <td>2</td>\n",
       "      <td>6</td>\n",
       "      <td>7</td>\n",
       "      <td>0</td>\n",
       "    </tr>\n",
       "    <tr>\n",
       "      <th>3</th>\n",
       "      <td>3</td>\n",
       "      <td>2</td>\n",
       "      <td>2</td>\n",
       "      <td>8</td>\n",
       "      <td>5</td>\n",
       "    </tr>\n",
       "    <tr>\n",
       "      <th>4</th>\n",
       "      <td>4</td>\n",
       "      <td>2</td>\n",
       "      <td>10</td>\n",
       "      <td>9</td>\n",
       "      <td>5</td>\n",
       "    </tr>\n",
       "    <tr>\n",
       "      <th>5</th>\n",
       "      <td>5</td>\n",
       "      <td>0</td>\n",
       "      <td>1</td>\n",
       "      <td>4</td>\n",
       "      <td>3</td>\n",
       "    </tr>\n",
       "  </tbody>\n",
       "</table>\n",
       "</div>"
      ],
      "text/plain": [
       "   cluster_loc  malam  pagi  siang  sore\n",
       "0            0      2    10     14     3\n",
       "1            1      3     8     17     2\n",
       "2            2      2     6      7     0\n",
       "3            3      2     2      8     5\n",
       "4            4      2    10      9     5\n",
       "5            5      0     1      4     3"
      ]
     },
     "execution_count": 332,
     "metadata": {},
     "output_type": "execute_result"
    }
   ],
   "source": [
    "data_list_cluster_based_time_incident_test"
   ]
  },
  {
   "cell_type": "code",
   "execution_count": 333,
   "metadata": {
    "collapsed": false
   },
   "outputs": [
    {
     "data": {
      "text/plain": [
       "<matplotlib.axes._subplots.AxesSubplot at 0x13980668>"
      ]
     },
     "execution_count": 333,
     "metadata": {},
     "output_type": "execute_result"
    },
    {
     "data": {
      "image/png": "[encoded data removed]",
      "text/plain": [
       "<matplotlib.figure.Figure at 0x1394da90>"
      ]
     },
     "metadata": {},
     "output_type": "display_data"
    }
   ],
   "source": [
    "plt.title(\"Insiden (Pagi)\")\n",
    "# sns.lmplot('malam', 'cluster_loc', data=data_list_cluster_based_time_incident, fit_reg=False)\n",
    "\n",
    "# fig1 = plt.figure(figsize=(3,3))\n",
    "sns.barplot(data=data_list_cluster_based_time_incident_test, x='cluster_loc', y='pagi', palette=\"viridis\")\n",
    "# fig1.tight_layout()"
   ]
  },
  {
   "cell_type": "code",
   "execution_count": 335,
   "metadata": {
    "collapsed": false
   },
   "outputs": [
    {
     "data": {
      "text/plain": [
       "<matplotlib.axes._subplots.AxesSubplot at 0x18016780>"
      ]
     },
     "execution_count": 335,
     "metadata": {},
     "output_type": "execute_result"
    },
    {
     "data": {
      "image/png": "[encoded data removed]",
      "text/plain": [
       "<matplotlib.figure.Figure at 0x1806f470>"
      ]
     },
     "metadata": {},
     "output_type": "display_data"
    }
   ],
   "source": [
    "plt.title(\"Insiden (Siang)\")\n",
    "# sns.lmplot('malam', 'cluster_loc', data=data_list_cluster_based_time_incident, fit_reg=False)\n",
    "\n",
    "# fig1 = plt.figure(figsize=(3,3))\n",
    "sns.barplot(data=data_list_cluster_based_time_incident_test, x='cluster_loc', y='siang', palette=\"viridis\")\n",
    "# fig1.tight_layout()"
   ]
  },
  {
   "cell_type": "code",
   "execution_count": 336,
   "metadata": {
    "collapsed": false
   },
   "outputs": [
    {
     "data": {
      "text/plain": [
       "<matplotlib.axes._subplots.AxesSubplot at 0x183b3c50>"
      ]
     },
     "execution_count": 336,
     "metadata": {},
     "output_type": "execute_result"
    },
    {
     "data": {
      "image/png": "[encoded data removed]",
      "text/plain": [
       "<matplotlib.figure.Figure at 0x182e2208>"
      ]
     },
     "metadata": {},
     "output_type": "display_data"
    }
   ],
   "source": [
    "plt.title(\"Insiden (Sore)\")\n",
    "# sns.lmplot('malam', 'cluster_loc', data=data_list_cluster_based_time_incident, fit_reg=False)\n",
    "\n",
    "# fig1 = plt.figure(figsize=(3,3))\n",
    "sns.barplot(data=data_list_cluster_based_time_incident_test, x='cluster_loc', y='sore', palette=\"viridis\")\n",
    "# fig1.tight_layout()"
   ]
  },
  {
   "cell_type": "code",
   "execution_count": 337,
   "metadata": {
    "collapsed": false
   },
   "outputs": [
    {
     "data": {
      "text/plain": [
       "<matplotlib.axes._subplots.AxesSubplot at 0x18690b38>"
      ]
     },
     "execution_count": 337,
     "metadata": {},
     "output_type": "execute_result"
    },
    {
     "data": {
      "image/png": "[encoded data removed]",
      "text/plain": [
       "<matplotlib.figure.Figure at 0x1869d4e0>"
      ]
     },
     "metadata": {},
     "output_type": "display_data"
    }
   ],
   "source": [
    "plt.title(\"Insiden (Malam)\")\n",
    "# sns.lmplot('malam', 'cluster_loc', data=data_list_cluster_based_time_incident, fit_reg=False)\n",
    "\n",
    "# fig1 = plt.figure(figsize=(3,3))\n",
    "sns.barplot(data=data_list_cluster_based_time_incident_test, x='cluster_loc', y='malam', palette=\"viridis\")\n",
    "# fig1.tight_layout()"
   ]
  },
  {
   "cell_type": "code",
   "execution_count": 338,
   "metadata": {
    "collapsed": true
   },
   "outputs": [],
   "source": [
    "#============================================"
   ]
  },
  {
   "cell_type": "code",
   "execution_count": 339,
   "metadata": {
    "collapsed": false
   },
   "outputs": [
    {
     "data": {
      "text/plain": [
       "LinearRegression(copy_X=True, fit_intercept=True, n_jobs=1, normalize=False)"
      ]
     },
     "execution_count": 339,
     "metadata": {},
     "output_type": "execute_result"
    }
   ],
   "source": [
    "# count error value with linear regression\n",
    "\n",
    "# Train the model\n",
    "XX = data_train_locat[['x_axis']]\n",
    "y = data_train_locat.y_axis\n",
    "lr = LinearRegression()\n",
    "lr.fit(XX, y)"
   ]
  },
  {
   "cell_type": "code",
   "execution_count": 340,
   "metadata": {
    "collapsed": true
   },
   "outputs": [],
   "source": [
    "# Predict on the test data\n",
    "X_test = data_test_locat[['x_axis']]\n",
    "y_test = data_test_locat.y_axis\n",
    "y_pred = lr.predict(X_test)"
   ]
  },
  {
   "cell_type": "code",
   "execution_count": 341,
   "metadata": {
    "collapsed": false
   },
   "outputs": [
    {
     "name": "stdout",
     "output_type": "stream",
     "text": [
      "Error value: 0.0720441820755\n"
     ]
    }
   ],
   "source": [
    "# Compute the root-mean-square\n",
    "rms = np.sqrt(mean_squared_error(y_test, y_pred))\n",
    "print \"Error value:\", rms"
   ]
  },
  {
   "cell_type": "code",
   "execution_count": 342,
   "metadata": {
    "collapsed": true
   },
   "outputs": [],
   "source": [
    "#============================================"
   ]
  },
  {
   "cell_type": "markdown",
   "metadata": {},
   "source": [
    "# Finish"
   ]
  }
 ],
 "metadata": {
  "anaconda-cloud": {},
  "kernelspec": {
   "display_name": "Python 2",
   "language": "python",
   "name": "python2"
  },
  "language_info": {
   "codemirror_mode": {
    "name": "ipython",
    "version": 2
   },
   "file_extension": ".py",
   "mimetype": "text/x-python",
   "name": "python",
   "nbconvert_exporter": "python",
   "pygments_lexer": "ipython2",
   "version": "2.7.13"
  }
 },
 "nbformat": 4,
 "nbformat_minor": 2
}
